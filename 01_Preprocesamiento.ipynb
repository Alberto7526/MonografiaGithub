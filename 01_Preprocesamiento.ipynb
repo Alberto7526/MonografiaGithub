{
  "nbformat": 4,
  "nbformat_minor": 0,
  "metadata": {
    "colab": {
      "name": "01 - Preprocesamiento.ipynb",
      "provenance": [],
      "collapsed_sections": [
        "ixNJaImmnFfH",
        "7rtJZzKTt92F",
        "ulmDtjv_jToo",
        "OrnKVoBSqdti"
      ]
    },
    "kernelspec": {
      "display_name": "Python 3",
      "language": "python",
      "name": "python3"
    },
    "language_info": {
      "codemirror_mode": {
        "name": "ipython",
        "version": 3
      },
      "file_extension": ".py",
      "mimetype": "text/x-python",
      "name": "python",
      "nbconvert_exporter": "python",
      "pygments_lexer": "ipython3",
      "version": "3.8.3"
    }
  },
  "cells": [
    {
      "cell_type": "markdown",
      "metadata": {
        "id": "67D2zH9Fp4FC"
      },
      "source": [
        "*Nombre Completo:* Victor Alberto Lizcano Portilla\n",
        "\n",
        "*Cédula:* 1.094.270.723\n",
        "\n",
        "*Correo Institucional:* alberto.lizcano@udea.edu.co\n",
        "\n",
        "\n",
        "*Nombre Completo:* Jimmy Alexander Romero Miranda\n",
        "\n",
        "*Cédula:* 1.017.203.451\n",
        "\n",
        "*Correo Institucional:* jimmy.romero@udea.edu.co"
      ]
    },
    {
      "cell_type": "markdown",
      "metadata": {
        "id": "p1RIZ7haZgll"
      },
      "source": [
        "# **PREPROCESAMIENTO Y LIMPIEZA DE LOS DATOS**\n",
        "\n",
        "<p align=justify> Este notebook tiene como propósito entender cada uno de los archivos <i>.csv </i> suministrados por la competencia de kaggle <b>\"Predict Future Sales\"</b>, y de igual manera realizar algún tipo de preprocesamiento en los datos que a consideración del autor así lo requiera."
      ]
    },
    {
      "cell_type": "markdown",
      "metadata": {
        "id": "IDYRCWA4kvII"
      },
      "source": [
        "## **CARGAR LOS DATOS E IMPORTAR LOS PAQUETES NECESARIOS**\n",
        "\n",
        "<p align=justify> Para tener acceso a los archivos, datasets y notebooks necesarios para la ejecución de este proyecto, se procede a clonar el repositorio de GitHub  <i>monografía</i> desde <a>https://github.com/Alberto7526/MonografiaGithub.git</a>.</p>"
      ]
    },
    {
      "cell_type": "code",
      "metadata": {
        "id": "LAK2EuAdum5F"
      },
      "source": [
        "!git clone https://github.com/Alberto7526/MonografiaGithub.git"
      ],
      "execution_count": null,
      "outputs": []
    },
    {
      "cell_type": "markdown",
      "metadata": {
        "id": "iQaKW2LkGyFO"
      },
      "source": [
        "Importando los paquetes necesarios "
      ]
    },
    {
      "cell_type": "code",
      "metadata": {
        "id": "sq175-e3cNeU"
      },
      "source": [
        "import os\n",
        "import numpy as np \n",
        "import pandas as pd\n",
        "from textblob import TextBlob\n",
        "import matplotlib.pyplot as plt\n",
        "import seaborn as sns"
      ],
      "execution_count": null,
      "outputs": []
    },
    {
      "cell_type": "markdown",
      "metadata": {
        "id": "ixNJaImmnFfH"
      },
      "source": [
        "## **1. item_categories.csv**"
      ]
    },
    {
      "cell_type": "markdown",
      "metadata": {
        "id": "bTgQOdY7r8qu"
      },
      "source": [
        "Data frame original"
      ]
    },
    {
      "cell_type": "code",
      "metadata": {
        "colab": {
          "base_uri": "https://localhost:8080/",
          "height": 205
        },
        "id": "qAEyiI3-rPfO",
        "outputId": "3d6322a3-b964-40b0-e72f-1b17839e4e36"
      },
      "source": [
        "# Creación del dataframe item_categories\n",
        "item_categories = pd.read_csv('MonografiaGithub/Datasets/item_categories.csv')\n",
        "item_categories.head(5)"
      ],
      "execution_count": null,
      "outputs": [
        {
          "output_type": "execute_result",
          "data": {
            "text/html": [
              "<div>\n",
              "<style scoped>\n",
              "    .dataframe tbody tr th:only-of-type {\n",
              "        vertical-align: middle;\n",
              "    }\n",
              "\n",
              "    .dataframe tbody tr th {\n",
              "        vertical-align: top;\n",
              "    }\n",
              "\n",
              "    .dataframe thead th {\n",
              "        text-align: right;\n",
              "    }\n",
              "</style>\n",
              "<table border=\"1\" class=\"dataframe\">\n",
              "  <thead>\n",
              "    <tr style=\"text-align: right;\">\n",
              "      <th></th>\n",
              "      <th>item_category_name</th>\n",
              "      <th>item_category_id</th>\n",
              "    </tr>\n",
              "  </thead>\n",
              "  <tbody>\n",
              "    <tr>\n",
              "      <th>0</th>\n",
              "      <td>PC - Гарнитуры/Наушники</td>\n",
              "      <td>0</td>\n",
              "    </tr>\n",
              "    <tr>\n",
              "      <th>1</th>\n",
              "      <td>Аксессуары - PS2</td>\n",
              "      <td>1</td>\n",
              "    </tr>\n",
              "    <tr>\n",
              "      <th>2</th>\n",
              "      <td>Аксессуары - PS3</td>\n",
              "      <td>2</td>\n",
              "    </tr>\n",
              "    <tr>\n",
              "      <th>3</th>\n",
              "      <td>Аксессуары - PS4</td>\n",
              "      <td>3</td>\n",
              "    </tr>\n",
              "    <tr>\n",
              "      <th>4</th>\n",
              "      <td>Аксессуары - PSP</td>\n",
              "      <td>4</td>\n",
              "    </tr>\n",
              "  </tbody>\n",
              "</table>\n",
              "</div>"
            ],
            "text/plain": [
              "        item_category_name  item_category_id\n",
              "0  PC - Гарнитуры/Наушники                 0\n",
              "1         Аксессуары - PS2                 1\n",
              "2         Аксессуары - PS3                 2\n",
              "3         Аксессуары - PS4                 3\n",
              "4         Аксессуары - PSP                 4"
            ]
          },
          "metadata": {
            "tags": []
          },
          "execution_count": 3
        }
      ]
    },
    {
      "cell_type": "markdown",
      "metadata": {
        "id": "KAgUhxwHrisj"
      },
      "source": [
        "Se define la función **trans_es** y traduce de la serie **.item_category_name** con ayuda de la función map de pandas"
      ]
    },
    {
      "cell_type": "code",
      "metadata": {
        "id": "3DffBnLqJFv6"
      },
      "source": [
        "def trans_es(x):\n",
        "  # Recibe un String y retorna su traducción al español.\n",
        "  eb = TextBlob(x)\n",
        "  trad = eb.translate(to='es')\n",
        "  return  str(trad)"
      ],
      "execution_count": null,
      "outputs": []
    },
    {
      "cell_type": "code",
      "metadata": {
        "colab": {
          "base_uri": "https://localhost:8080/",
          "height": 205
        },
        "id": "fOzcl9M3ud0n",
        "outputId": "78fed604-db24-4967-9c34-b420ef21df5f"
      },
      "source": [
        "item_categories['item_category_name'] = item_categories['item_category_name'].map(trans_es)\n",
        "item_categories.head(5)"
      ],
      "execution_count": null,
      "outputs": [
        {
          "output_type": "execute_result",
          "data": {
            "text/html": [
              "<div>\n",
              "<style scoped>\n",
              "    .dataframe tbody tr th:only-of-type {\n",
              "        vertical-align: middle;\n",
              "    }\n",
              "\n",
              "    .dataframe tbody tr th {\n",
              "        vertical-align: top;\n",
              "    }\n",
              "\n",
              "    .dataframe thead th {\n",
              "        text-align: right;\n",
              "    }\n",
              "</style>\n",
              "<table border=\"1\" class=\"dataframe\">\n",
              "  <thead>\n",
              "    <tr style=\"text-align: right;\">\n",
              "      <th></th>\n",
              "      <th>item_category_name</th>\n",
              "      <th>item_category_id</th>\n",
              "    </tr>\n",
              "  </thead>\n",
              "  <tbody>\n",
              "    <tr>\n",
              "      <th>0</th>\n",
              "      <td>PC - Auriculares / Auriculares</td>\n",
              "      <td>0</td>\n",
              "    </tr>\n",
              "    <tr>\n",
              "      <th>1</th>\n",
              "      <td>Accesorios - PS2</td>\n",
              "      <td>1</td>\n",
              "    </tr>\n",
              "    <tr>\n",
              "      <th>2</th>\n",
              "      <td>Accesorios - PS3</td>\n",
              "      <td>2</td>\n",
              "    </tr>\n",
              "    <tr>\n",
              "      <th>3</th>\n",
              "      <td>Accesorios - PS4</td>\n",
              "      <td>3</td>\n",
              "    </tr>\n",
              "    <tr>\n",
              "      <th>4</th>\n",
              "      <td>Accesorios - PSP</td>\n",
              "      <td>4</td>\n",
              "    </tr>\n",
              "  </tbody>\n",
              "</table>\n",
              "</div>"
            ],
            "text/plain": [
              "               item_category_name  item_category_id\n",
              "0  PC - Auriculares / Auriculares                 0\n",
              "1                Accesorios - PS2                 1\n",
              "2                Accesorios - PS3                 2\n",
              "3                Accesorios - PS4                 3\n",
              "4                Accesorios - PSP                 4"
            ]
          },
          "metadata": {
            "tags": []
          },
          "execution_count": 5
        }
      ]
    },
    {
      "cell_type": "markdown",
      "metadata": {
        "id": "2Ig5Qy-aB70r"
      },
      "source": [
        "Una vez se ha realizado la traducción de los datos, se procede a verificar la integridad de los mismos.\n",
        "\n",
        "Para este caso solo se verifica si posee valores nulos, y el número de registros existentes.  "
      ]
    },
    {
      "cell_type": "code",
      "metadata": {
        "colab": {
          "base_uri": "https://localhost:8080/"
        },
        "id": "THIHH1XKB2bG",
        "outputId": "6e0f9f88-b370-415f-b331-ac689bf9aa4a"
      },
      "source": [
        "item_categories.isnull().values.sum()"
      ],
      "execution_count": null,
      "outputs": [
        {
          "output_type": "execute_result",
          "data": {
            "text/plain": [
              "0"
            ]
          },
          "metadata": {
            "tags": []
          },
          "execution_count": 6
        }
      ]
    },
    {
      "cell_type": "code",
      "metadata": {
        "colab": {
          "base_uri": "https://localhost:8080/"
        },
        "id": "gISC95RyDdLg",
        "outputId": "f97b06b3-c02c-4137-9e59-6488566e0e9b"
      },
      "source": [
        "numero_registros = len(item_categories)\n",
        "numero_valores_distintos = len(item_categories['item_category_name'].unique())\n",
        "print ('Número de registros para item_categories es: {}'\n",
        "        '\\nNúmero de valores unicos es: {}'.format(numero_registros,numero_valores_distintos))"
      ],
      "execution_count": null,
      "outputs": [
        {
          "output_type": "stream",
          "text": [
            "Número de registros para item_categories es: 84\n",
            "Número de valores unicos es: 84\n"
          ],
          "name": "stdout"
        }
      ]
    },
    {
      "cell_type": "markdown",
      "metadata": {
        "id": "O_OTmeyJs5rc"
      },
      "source": [
        "Como se puede observar no se encuentran valores nulos o repetidos dentro de item_categories, por tanto no es necesario realizar ninguna otra acción sobre el dataframe y se procede a guardar el mismo en la carpeta New_Datasets"
      ]
    },
    {
      "cell_type": "code",
      "metadata": {
        "id": "28ibSlMML_Md"
      },
      "source": [
        "try:\n",
        "    os.mkdir('New_Datasets')\n",
        "except OSError:\n",
        "    pass\n",
        "item_categories.to_csv('New_Datasets/item_categories.csv',index=False)"
      ],
      "execution_count": null,
      "outputs": []
    },
    {
      "cell_type": "markdown",
      "metadata": {
        "id": "7rtJZzKTt92F"
      },
      "source": [
        "## **2.items.csv**"
      ]
    },
    {
      "cell_type": "code",
      "metadata": {
        "colab": {
          "base_uri": "https://localhost:8080/",
          "height": 205
        },
        "id": "oN5cUUaVb-k-",
        "outputId": "5cfb9025-0eae-47fc-b979-40687cc57726"
      },
      "source": [
        "items = pd.read_csv('MonografiaGithub/Datasets/items.csv')\n",
        "items.head()"
      ],
      "execution_count": null,
      "outputs": [
        {
          "output_type": "execute_result",
          "data": {
            "text/html": [
              "<div>\n",
              "<style scoped>\n",
              "    .dataframe tbody tr th:only-of-type {\n",
              "        vertical-align: middle;\n",
              "    }\n",
              "\n",
              "    .dataframe tbody tr th {\n",
              "        vertical-align: top;\n",
              "    }\n",
              "\n",
              "    .dataframe thead th {\n",
              "        text-align: right;\n",
              "    }\n",
              "</style>\n",
              "<table border=\"1\" class=\"dataframe\">\n",
              "  <thead>\n",
              "    <tr style=\"text-align: right;\">\n",
              "      <th></th>\n",
              "      <th>item_name</th>\n",
              "      <th>item_id</th>\n",
              "      <th>item_category_id</th>\n",
              "    </tr>\n",
              "  </thead>\n",
              "  <tbody>\n",
              "    <tr>\n",
              "      <th>0</th>\n",
              "      <td>! ВО ВЛАСТИ НАВАЖДЕНИЯ (ПЛАСТ.)         D</td>\n",
              "      <td>0</td>\n",
              "      <td>40</td>\n",
              "    </tr>\n",
              "    <tr>\n",
              "      <th>1</th>\n",
              "      <td>!ABBYY FineReader 12 Professional Edition Full...</td>\n",
              "      <td>1</td>\n",
              "      <td>76</td>\n",
              "    </tr>\n",
              "    <tr>\n",
              "      <th>2</th>\n",
              "      <td>***В ЛУЧАХ СЛАВЫ   (UNV)                    D</td>\n",
              "      <td>2</td>\n",
              "      <td>40</td>\n",
              "    </tr>\n",
              "    <tr>\n",
              "      <th>3</th>\n",
              "      <td>***ГОЛУБАЯ ВОЛНА  (Univ)                      D</td>\n",
              "      <td>3</td>\n",
              "      <td>40</td>\n",
              "    </tr>\n",
              "    <tr>\n",
              "      <th>4</th>\n",
              "      <td>***КОРОБКА (СТЕКЛО)                       D</td>\n",
              "      <td>4</td>\n",
              "      <td>40</td>\n",
              "    </tr>\n",
              "  </tbody>\n",
              "</table>\n",
              "</div>"
            ],
            "text/plain": [
              "                                           item_name  item_id  item_category_id\n",
              "0          ! ВО ВЛАСТИ НАВАЖДЕНИЯ (ПЛАСТ.)         D        0                40\n",
              "1  !ABBYY FineReader 12 Professional Edition Full...        1                76\n",
              "2      ***В ЛУЧАХ СЛАВЫ   (UNV)                    D        2                40\n",
              "3    ***ГОЛУБАЯ ВОЛНА  (Univ)                      D        3                40\n",
              "4        ***КОРОБКА (СТЕКЛО)                       D        4                40"
            ]
          },
          "metadata": {
            "tags": []
          },
          "execution_count": 9
        }
      ]
    },
    {
      "cell_type": "code",
      "metadata": {
        "colab": {
          "base_uri": "https://localhost:8080/"
        },
        "id": "QCv8TKIMEX3C",
        "outputId": "2879a9b5-eaf7-47fb-9899-70d8f0b46337"
      },
      "source": [
        "items.isnull().values.sum()"
      ],
      "execution_count": null,
      "outputs": [
        {
          "output_type": "execute_result",
          "data": {
            "text/plain": [
              "0"
            ]
          },
          "metadata": {
            "tags": []
          },
          "execution_count": 10
        }
      ]
    },
    {
      "cell_type": "code",
      "metadata": {
        "colab": {
          "base_uri": "https://localhost:8080/"
        },
        "id": "BIBHWHA8xK_u",
        "outputId": "7b356d29-c9ac-4440-82f8-bd7d24e8e986"
      },
      "source": [
        "total_productos = len(items.item_id.unique())\n",
        "print ('El número total de productos a predecir es: ',total_productos)"
      ],
      "execution_count": null,
      "outputs": [
        {
          "output_type": "stream",
          "text": [
            "El número total de productos a predecir es:  22170\n"
          ],
          "name": "stdout"
        }
      ]
    },
    {
      "cell_type": "markdown",
      "metadata": {
        "id": "Jg97LCUOEcJx"
      },
      "source": [
        "Como se puede evidenciar el archivo <b>items.csv</b> no presenta valores nulos o repetidos, ya que este archivo se utilizado solo para brindar información, no se realiza ningun cambio en el mismo. "
      ]
    },
    {
      "cell_type": "code",
      "metadata": {
        "id": "PwQEse3_qMTw"
      },
      "source": [
        "items.to_csv('New_Datasets/items.csv',index=False)"
      ],
      "execution_count": null,
      "outputs": []
    },
    {
      "cell_type": "markdown",
      "metadata": {
        "id": "ulmDtjv_jToo"
      },
      "source": [
        "## **3.shops.csv**"
      ]
    },
    {
      "cell_type": "code",
      "metadata": {
        "colab": {
          "base_uri": "https://localhost:8080/",
          "height": 205
        },
        "id": "w7iUVKqux5vX",
        "outputId": "f4b0ed3f-0207-4295-9268-d4b9c16e3349"
      },
      "source": [
        "shops = pd.read_csv('MonografiaGithub/Datasets/shops.csv')\n",
        "shops.head(5)"
      ],
      "execution_count": null,
      "outputs": [
        {
          "output_type": "execute_result",
          "data": {
            "text/html": [
              "<div>\n",
              "<style scoped>\n",
              "    .dataframe tbody tr th:only-of-type {\n",
              "        vertical-align: middle;\n",
              "    }\n",
              "\n",
              "    .dataframe tbody tr th {\n",
              "        vertical-align: top;\n",
              "    }\n",
              "\n",
              "    .dataframe thead th {\n",
              "        text-align: right;\n",
              "    }\n",
              "</style>\n",
              "<table border=\"1\" class=\"dataframe\">\n",
              "  <thead>\n",
              "    <tr style=\"text-align: right;\">\n",
              "      <th></th>\n",
              "      <th>shop_name</th>\n",
              "      <th>shop_id</th>\n",
              "    </tr>\n",
              "  </thead>\n",
              "  <tbody>\n",
              "    <tr>\n",
              "      <th>0</th>\n",
              "      <td>!Якутск Орджоникидзе, 56 фран</td>\n",
              "      <td>0</td>\n",
              "    </tr>\n",
              "    <tr>\n",
              "      <th>1</th>\n",
              "      <td>!Якутск ТЦ \"Центральный\" фран</td>\n",
              "      <td>1</td>\n",
              "    </tr>\n",
              "    <tr>\n",
              "      <th>2</th>\n",
              "      <td>Адыгея ТЦ \"Мега\"</td>\n",
              "      <td>2</td>\n",
              "    </tr>\n",
              "    <tr>\n",
              "      <th>3</th>\n",
              "      <td>Балашиха ТРК \"Октябрь-Киномир\"</td>\n",
              "      <td>3</td>\n",
              "    </tr>\n",
              "    <tr>\n",
              "      <th>4</th>\n",
              "      <td>Волжский ТЦ \"Волга Молл\"</td>\n",
              "      <td>4</td>\n",
              "    </tr>\n",
              "  </tbody>\n",
              "</table>\n",
              "</div>"
            ],
            "text/plain": [
              "                        shop_name  shop_id\n",
              "0   !Якутск Орджоникидзе, 56 фран        0\n",
              "1   !Якутск ТЦ \"Центральный\" фран        1\n",
              "2                Адыгея ТЦ \"Мега\"        2\n",
              "3  Балашиха ТРК \"Октябрь-Киномир\"        3\n",
              "4        Волжский ТЦ \"Волга Молл\"        4"
            ]
          },
          "metadata": {
            "tags": []
          },
          "execution_count": 13
        }
      ]
    },
    {
      "cell_type": "markdown",
      "metadata": {
        "id": "1A1T1j1jr3Wg"
      },
      "source": [
        "Similar a las categorías, se procede a traducir las tiendas por legibilidad."
      ]
    },
    {
      "cell_type": "code",
      "metadata": {
        "colab": {
          "base_uri": "https://localhost:8080/",
          "height": 205
        },
        "id": "tpZbNi_staiI",
        "outputId": "2f462977-8ee6-49f5-8df3-259911449cfb"
      },
      "source": [
        "shops['shop_name'] = shops['shop_name'].map(trans_es)\n",
        "shops.head()"
      ],
      "execution_count": null,
      "outputs": [
        {
          "output_type": "execute_result",
          "data": {
            "text/html": [
              "<div>\n",
              "<style scoped>\n",
              "    .dataframe tbody tr th:only-of-type {\n",
              "        vertical-align: middle;\n",
              "    }\n",
              "\n",
              "    .dataframe tbody tr th {\n",
              "        vertical-align: top;\n",
              "    }\n",
              "\n",
              "    .dataframe thead th {\n",
              "        text-align: right;\n",
              "    }\n",
              "</style>\n",
              "<table border=\"1\" class=\"dataframe\">\n",
              "  <thead>\n",
              "    <tr style=\"text-align: right;\">\n",
              "      <th></th>\n",
              "      <th>shop_name</th>\n",
              "      <th>shop_id</th>\n",
              "    </tr>\n",
              "  </thead>\n",
              "  <tbody>\n",
              "    <tr>\n",
              "      <th>0</th>\n",
              "      <td>! Yakutsk Ordzhonikidze, 56 francos</td>\n",
              "      <td>0</td>\n",
              "    </tr>\n",
              "    <tr>\n",
              "      <th>1</th>\n",
              "      <td>! Yakutsk TC \"Central\" fran</td>\n",
              "      <td>1</td>\n",
              "    </tr>\n",
              "    <tr>\n",
              "      <th>2</th>\n",
              "      <td>Centro comercial Adygea \"Mega\"</td>\n",
              "      <td>2</td>\n",
              "    </tr>\n",
              "    <tr>\n",
              "      <th>3</th>\n",
              "      <td>Balashikha TRK \"Octubre-Kinomir\"</td>\n",
              "      <td>3</td>\n",
              "    </tr>\n",
              "    <tr>\n",
              "      <th>4</th>\n",
              "      <td>Centro comercial Volzhsky \"Volga Mall\"</td>\n",
              "      <td>4</td>\n",
              "    </tr>\n",
              "  </tbody>\n",
              "</table>\n",
              "</div>"
            ],
            "text/plain": [
              "                                shop_name  shop_id\n",
              "0     ! Yakutsk Ordzhonikidze, 56 francos        0\n",
              "1             ! Yakutsk TC \"Central\" fran        1\n",
              "2          Centro comercial Adygea \"Mega\"        2\n",
              "3        Balashikha TRK \"Octubre-Kinomir\"        3\n",
              "4  Centro comercial Volzhsky \"Volga Mall\"        4"
            ]
          },
          "metadata": {
            "tags": []
          },
          "execution_count": 14
        }
      ]
    },
    {
      "cell_type": "code",
      "metadata": {
        "colab": {
          "base_uri": "https://localhost:8080/"
        },
        "id": "J4gcKFkVpC2h",
        "outputId": "276ba63f-15de-4b05-b27d-fd0b38ef3877"
      },
      "source": [
        "shops.isnull().values.sum()"
      ],
      "execution_count": null,
      "outputs": [
        {
          "output_type": "execute_result",
          "data": {
            "text/plain": [
              "0"
            ]
          },
          "metadata": {
            "tags": []
          },
          "execution_count": 15
        }
      ]
    },
    {
      "cell_type": "code",
      "metadata": {
        "colab": {
          "base_uri": "https://localhost:8080/"
        },
        "id": "lRjTmqHEpN4J",
        "outputId": "42445315-f87a-4472-c667-6a8c057bd868"
      },
      "source": [
        "total_tiendas = len(shops.shop_id.unique())\n",
        "print ('El número total de tiendas es: ',total_tiendas)"
      ],
      "execution_count": null,
      "outputs": [
        {
          "output_type": "stream",
          "text": [
            "El número total de tiendas es:  60\n"
          ],
          "name": "stdout"
        }
      ]
    },
    {
      "cell_type": "markdown",
      "metadata": {
        "id": "hxdV7w4VpvH3"
      },
      "source": [
        "Como se puede evidenciar el archivo <b>shops.csv</b> no presenta valores nulos o repetidos, ya que este archivo es utilizado solo para brindar información, no se realiza ningun cambio adicional en el mismo y se procede a guardar el archivo."
      ]
    },
    {
      "cell_type": "code",
      "metadata": {
        "id": "CQI9hZjmqS22"
      },
      "source": [
        "shops.to_csv('New_Datasets/shops.csv',index=False)"
      ],
      "execution_count": null,
      "outputs": []
    },
    {
      "cell_type": "markdown",
      "metadata": {
        "id": "OrnKVoBSqdti"
      },
      "source": [
        "##**4.sample_submission.csv**"
      ]
    },
    {
      "cell_type": "code",
      "metadata": {
        "colab": {
          "base_uri": "https://localhost:8080/",
          "height": 422
        },
        "id": "oqNy1-w0xmvn",
        "outputId": "98213dff-9dae-4088-ba45-bf1bb299da32"
      },
      "source": [
        "sample_submission = pd.read_csv('MonografiaGithub/Datasets/sample_submission.csv')\n",
        "sample_submission"
      ],
      "execution_count": null,
      "outputs": [
        {
          "output_type": "execute_result",
          "data": {
            "text/html": [
              "<div>\n",
              "<style scoped>\n",
              "    .dataframe tbody tr th:only-of-type {\n",
              "        vertical-align: middle;\n",
              "    }\n",
              "\n",
              "    .dataframe tbody tr th {\n",
              "        vertical-align: top;\n",
              "    }\n",
              "\n",
              "    .dataframe thead th {\n",
              "        text-align: right;\n",
              "    }\n",
              "</style>\n",
              "<table border=\"1\" class=\"dataframe\">\n",
              "  <thead>\n",
              "    <tr style=\"text-align: right;\">\n",
              "      <th></th>\n",
              "      <th>ID</th>\n",
              "      <th>item_cnt_month</th>\n",
              "    </tr>\n",
              "  </thead>\n",
              "  <tbody>\n",
              "    <tr>\n",
              "      <th>0</th>\n",
              "      <td>0</td>\n",
              "      <td>0.5</td>\n",
              "    </tr>\n",
              "    <tr>\n",
              "      <th>1</th>\n",
              "      <td>1</td>\n",
              "      <td>0.5</td>\n",
              "    </tr>\n",
              "    <tr>\n",
              "      <th>2</th>\n",
              "      <td>2</td>\n",
              "      <td>0.5</td>\n",
              "    </tr>\n",
              "    <tr>\n",
              "      <th>3</th>\n",
              "      <td>3</td>\n",
              "      <td>0.5</td>\n",
              "    </tr>\n",
              "    <tr>\n",
              "      <th>4</th>\n",
              "      <td>4</td>\n",
              "      <td>0.5</td>\n",
              "    </tr>\n",
              "    <tr>\n",
              "      <th>...</th>\n",
              "      <td>...</td>\n",
              "      <td>...</td>\n",
              "    </tr>\n",
              "    <tr>\n",
              "      <th>214195</th>\n",
              "      <td>214195</td>\n",
              "      <td>0.5</td>\n",
              "    </tr>\n",
              "    <tr>\n",
              "      <th>214196</th>\n",
              "      <td>214196</td>\n",
              "      <td>0.5</td>\n",
              "    </tr>\n",
              "    <tr>\n",
              "      <th>214197</th>\n",
              "      <td>214197</td>\n",
              "      <td>0.5</td>\n",
              "    </tr>\n",
              "    <tr>\n",
              "      <th>214198</th>\n",
              "      <td>214198</td>\n",
              "      <td>0.5</td>\n",
              "    </tr>\n",
              "    <tr>\n",
              "      <th>214199</th>\n",
              "      <td>214199</td>\n",
              "      <td>0.5</td>\n",
              "    </tr>\n",
              "  </tbody>\n",
              "</table>\n",
              "<p>214200 rows × 2 columns</p>\n",
              "</div>"
            ],
            "text/plain": [
              "            ID  item_cnt_month\n",
              "0            0             0.5\n",
              "1            1             0.5\n",
              "2            2             0.5\n",
              "3            3             0.5\n",
              "4            4             0.5\n",
              "...        ...             ...\n",
              "214195  214195             0.5\n",
              "214196  214196             0.5\n",
              "214197  214197             0.5\n",
              "214198  214198             0.5\n",
              "214199  214199             0.5\n",
              "\n",
              "[214200 rows x 2 columns]"
            ]
          },
          "metadata": {
            "tags": []
          },
          "execution_count": 18
        }
      ]
    },
    {
      "cell_type": "code",
      "metadata": {
        "colab": {
          "base_uri": "https://localhost:8080/"
        },
        "id": "vQLU7kto-5-Y",
        "outputId": "70ad3c73-6da8-4b11-cb12-ab4ef16189c0"
      },
      "source": [
        "len(sample_submission.ID.unique())"
      ],
      "execution_count": null,
      "outputs": [
        {
          "output_type": "execute_result",
          "data": {
            "text/plain": [
              "214200"
            ]
          },
          "metadata": {
            "tags": []
          },
          "execution_count": 19
        }
      ]
    },
    {
      "cell_type": "markdown",
      "metadata": {
        "id": "UONU2VzZ7pjD"
      },
      "source": [
        "Dado que este es un archivo de ejemplo, no es necesario hacer un procesamiento del mismo, se guarda tal como estaba."
      ]
    },
    {
      "cell_type": "code",
      "metadata": {
        "id": "kE3iVpMWt_Ey"
      },
      "source": [
        "sample_submission.to_csv('New_Datasets/sample_submission.csv',index=False)"
      ],
      "execution_count": null,
      "outputs": []
    },
    {
      "cell_type": "markdown",
      "metadata": {
        "id": "Py2ZRMEsuO1s"
      },
      "source": [
        "##**5.sales_train.csv**"
      ]
    },
    {
      "cell_type": "code",
      "metadata": {
        "colab": {
          "base_uri": "https://localhost:8080/",
          "height": 422
        },
        "id": "tijFOdHKvO-H",
        "outputId": "ddeb986b-e609-4696-dc8e-617be00d71e2"
      },
      "source": [
        "sales_train = pd.read_csv('MonografiaGithub/Datasets/sales_train.csv')\n",
        "sales_train"
      ],
      "execution_count": null,
      "outputs": [
        {
          "output_type": "execute_result",
          "data": {
            "text/html": [
              "<div>\n",
              "<style scoped>\n",
              "    .dataframe tbody tr th:only-of-type {\n",
              "        vertical-align: middle;\n",
              "    }\n",
              "\n",
              "    .dataframe tbody tr th {\n",
              "        vertical-align: top;\n",
              "    }\n",
              "\n",
              "    .dataframe thead th {\n",
              "        text-align: right;\n",
              "    }\n",
              "</style>\n",
              "<table border=\"1\" class=\"dataframe\">\n",
              "  <thead>\n",
              "    <tr style=\"text-align: right;\">\n",
              "      <th></th>\n",
              "      <th>date</th>\n",
              "      <th>date_block_num</th>\n",
              "      <th>shop_id</th>\n",
              "      <th>item_id</th>\n",
              "      <th>item_price</th>\n",
              "      <th>item_cnt_day</th>\n",
              "    </tr>\n",
              "  </thead>\n",
              "  <tbody>\n",
              "    <tr>\n",
              "      <th>0</th>\n",
              "      <td>02.01.2013</td>\n",
              "      <td>0</td>\n",
              "      <td>59</td>\n",
              "      <td>22154</td>\n",
              "      <td>999.00</td>\n",
              "      <td>1.0</td>\n",
              "    </tr>\n",
              "    <tr>\n",
              "      <th>1</th>\n",
              "      <td>03.01.2013</td>\n",
              "      <td>0</td>\n",
              "      <td>25</td>\n",
              "      <td>2552</td>\n",
              "      <td>899.00</td>\n",
              "      <td>1.0</td>\n",
              "    </tr>\n",
              "    <tr>\n",
              "      <th>2</th>\n",
              "      <td>05.01.2013</td>\n",
              "      <td>0</td>\n",
              "      <td>25</td>\n",
              "      <td>2552</td>\n",
              "      <td>899.00</td>\n",
              "      <td>-1.0</td>\n",
              "    </tr>\n",
              "    <tr>\n",
              "      <th>3</th>\n",
              "      <td>06.01.2013</td>\n",
              "      <td>0</td>\n",
              "      <td>25</td>\n",
              "      <td>2554</td>\n",
              "      <td>1709.05</td>\n",
              "      <td>1.0</td>\n",
              "    </tr>\n",
              "    <tr>\n",
              "      <th>4</th>\n",
              "      <td>15.01.2013</td>\n",
              "      <td>0</td>\n",
              "      <td>25</td>\n",
              "      <td>2555</td>\n",
              "      <td>1099.00</td>\n",
              "      <td>1.0</td>\n",
              "    </tr>\n",
              "    <tr>\n",
              "      <th>...</th>\n",
              "      <td>...</td>\n",
              "      <td>...</td>\n",
              "      <td>...</td>\n",
              "      <td>...</td>\n",
              "      <td>...</td>\n",
              "      <td>...</td>\n",
              "    </tr>\n",
              "    <tr>\n",
              "      <th>2935844</th>\n",
              "      <td>10.10.2015</td>\n",
              "      <td>33</td>\n",
              "      <td>25</td>\n",
              "      <td>7409</td>\n",
              "      <td>299.00</td>\n",
              "      <td>1.0</td>\n",
              "    </tr>\n",
              "    <tr>\n",
              "      <th>2935845</th>\n",
              "      <td>09.10.2015</td>\n",
              "      <td>33</td>\n",
              "      <td>25</td>\n",
              "      <td>7460</td>\n",
              "      <td>299.00</td>\n",
              "      <td>1.0</td>\n",
              "    </tr>\n",
              "    <tr>\n",
              "      <th>2935846</th>\n",
              "      <td>14.10.2015</td>\n",
              "      <td>33</td>\n",
              "      <td>25</td>\n",
              "      <td>7459</td>\n",
              "      <td>349.00</td>\n",
              "      <td>1.0</td>\n",
              "    </tr>\n",
              "    <tr>\n",
              "      <th>2935847</th>\n",
              "      <td>22.10.2015</td>\n",
              "      <td>33</td>\n",
              "      <td>25</td>\n",
              "      <td>7440</td>\n",
              "      <td>299.00</td>\n",
              "      <td>1.0</td>\n",
              "    </tr>\n",
              "    <tr>\n",
              "      <th>2935848</th>\n",
              "      <td>03.10.2015</td>\n",
              "      <td>33</td>\n",
              "      <td>25</td>\n",
              "      <td>7460</td>\n",
              "      <td>299.00</td>\n",
              "      <td>1.0</td>\n",
              "    </tr>\n",
              "  </tbody>\n",
              "</table>\n",
              "<p>2935849 rows × 6 columns</p>\n",
              "</div>"
            ],
            "text/plain": [
              "               date  date_block_num  shop_id  item_id  item_price  item_cnt_day\n",
              "0        02.01.2013               0       59    22154      999.00           1.0\n",
              "1        03.01.2013               0       25     2552      899.00           1.0\n",
              "2        05.01.2013               0       25     2552      899.00          -1.0\n",
              "3        06.01.2013               0       25     2554     1709.05           1.0\n",
              "4        15.01.2013               0       25     2555     1099.00           1.0\n",
              "...             ...             ...      ...      ...         ...           ...\n",
              "2935844  10.10.2015              33       25     7409      299.00           1.0\n",
              "2935845  09.10.2015              33       25     7460      299.00           1.0\n",
              "2935846  14.10.2015              33       25     7459      349.00           1.0\n",
              "2935847  22.10.2015              33       25     7440      299.00           1.0\n",
              "2935848  03.10.2015              33       25     7460      299.00           1.0\n",
              "\n",
              "[2935849 rows x 6 columns]"
            ]
          },
          "metadata": {
            "tags": []
          },
          "execution_count": 21
        }
      ]
    },
    {
      "cell_type": "markdown",
      "metadata": {
        "id": "J5tL6QoD8jTa"
      },
      "source": [
        "Se valida el tipo de dato de cada columna."
      ]
    },
    {
      "cell_type": "code",
      "metadata": {
        "colab": {
          "base_uri": "https://localhost:8080/"
        },
        "id": "_D-lTlrlEWVg",
        "outputId": "9f035128-0300-425c-8641-97332a21b802"
      },
      "source": [
        "sales_train.info()"
      ],
      "execution_count": null,
      "outputs": [
        {
          "output_type": "stream",
          "text": [
            "<class 'pandas.core.frame.DataFrame'>\n",
            "RangeIndex: 2935849 entries, 0 to 2935848\n",
            "Data columns (total 6 columns):\n",
            " #   Column          Dtype  \n",
            "---  ------          -----  \n",
            " 0   date            object \n",
            " 1   date_block_num  int64  \n",
            " 2   shop_id         int64  \n",
            " 3   item_id         int64  \n",
            " 4   item_price      float64\n",
            " 5   item_cnt_day    float64\n",
            "dtypes: float64(2), int64(3), object(1)\n",
            "memory usage: 134.4+ MB\n"
          ],
          "name": "stdout"
        }
      ]
    },
    {
      "cell_type": "code",
      "metadata": {
        "colab": {
          "base_uri": "https://localhost:8080/"
        },
        "id": "v8emnLQV9H34",
        "outputId": "1e1bda03-a194-4e30-bb65-ff73d777a00d"
      },
      "source": [
        "# Se verifica la existencia de elementos nulos.\n",
        "sales_train.isnull().values.sum()"
      ],
      "execution_count": null,
      "outputs": [
        {
          "output_type": "execute_result",
          "data": {
            "text/plain": [
              "0"
            ]
          },
          "metadata": {
            "tags": []
          },
          "execution_count": 23
        }
      ]
    },
    {
      "cell_type": "markdown",
      "metadata": {
        "id": "05et2sQb0RWS"
      },
      "source": [
        "Graficamos inicialmente la cantidad de productos vendidos por tienda, para tener una idea del comportamiento de los datos y buscar posibles *outlayers*."
      ]
    },
    {
      "cell_type": "code",
      "metadata": {
        "colab": {
          "base_uri": "https://localhost:8080/",
          "height": 410
        },
        "id": "FjNjAYCwGjGs",
        "outputId": "68d14c6d-26f0-42e5-e9a7-6c70f15a1bdd"
      },
      "source": [
        "sns.set_theme(style=\"whitegrid\")\n",
        "flierprops = dict(marker='o', markerfacecolor='purple', markersize=6,\n",
        "                  linestyle='none', markeredgecolor='black')\n",
        "plt.figure(figsize=(18,6))\n",
        "sns.set_theme(color_codes=True)\n",
        "ax = sns.boxplot(data=sales_train, y=\"item_cnt_day\", x = 'shop_id',color='yellow',flierprops=flierprops)\n",
        "plt.title('Sales per shops')\n",
        "plt.show()\n"
      ],
      "execution_count": null,
      "outputs": [
        {
          "output_type": "display_data",
          "data": {
            "image/png": "[encoded data removed]",
            "text/plain": [
              "<Figure size 1296x432 with 1 Axes>"
            ]
          },
          "metadata": {
            "tags": []
          }
        }
      ]
    },
    {
      "cell_type": "markdown",
      "metadata": {
        "id": "i3ELCHkemoyM"
      },
      "source": [
        "A partir de lo observado en la gráfica anterior, se procede a eliminar los elementos *outlayers* del dataset. "
      ]
    },
    {
      "cell_type": "code",
      "metadata": {
        "id": "sVaTAys4pdHM"
      },
      "source": [
        "sales_train = sales_train[sales_train.item_cnt_day<1000]\n",
        "sales_train = sales_train[~((sales_train.item_cnt_day>400) & (sales_train.shop_id==24))]\n",
        "sales_train = sales_train[~((sales_train.item_cnt_day>200) & (sales_train.shop_id==47))]"
      ],
      "execution_count": null,
      "outputs": []
    },
    {
      "cell_type": "code",
      "metadata": {
        "colab": {
          "base_uri": "https://localhost:8080/"
        },
        "id": "IerFgU0rfDTw",
        "outputId": "cbff4913-e04b-4151-e1ec-9a4b10cfa8af"
      },
      "source": [
        "len(sales_train)"
      ],
      "execution_count": null,
      "outputs": [
        {
          "output_type": "execute_result",
          "data": {
            "text/plain": [
              "2935845"
            ]
          },
          "metadata": {
            "tags": []
          },
          "execution_count": 26
        }
      ]
    },
    {
      "cell_type": "markdown",
      "metadata": {
        "id": "EfBPZcyD0f_h"
      },
      "source": [
        "Volvemos a graficar los datos después del proceso de limpieza"
      ]
    },
    {
      "cell_type": "code",
      "metadata": {
        "colab": {
          "base_uri": "https://localhost:8080/",
          "height": 410
        },
        "id": "wJouYrP4q2Ks",
        "outputId": "8f0e1afe-f381-49b9-c1e2-075cbd009a4f"
      },
      "source": [
        "flierprops = dict(marker='o', markerfacecolor='purple', markersize=6,\n",
        "                  linestyle='none', markeredgecolor='black')\n",
        "plt.figure(figsize=(18,6))\n",
        "sns.set_theme(color_codes=True)\n",
        "ax = sns.boxplot(data=sales_train, y=\"item_cnt_day\", x = 'shop_id',color='yellow',flierprops=flierprops)\n",
        "plt.title('Sales per shops')\n",
        "plt.show()"
      ],
      "execution_count": null,
      "outputs": [
        {
          "output_type": "display_data",
          "data": {
            "image/png": "[encoded data removed]",
            "text/plain": [
              "<Figure size 1296x432 with 1 Axes>"
            ]
          },
          "metadata": {
            "tags": []
          }
        }
      ]
    },
    {
      "cell_type": "markdown",
      "metadata": {
        "id": "lciex6LI9QZp"
      },
      "source": [
        "Se repite el procedimiento anterior para validar los precios de los productos:"
      ]
    },
    {
      "cell_type": "code",
      "metadata": {
        "colab": {
          "base_uri": "https://localhost:8080/",
          "height": 405
        },
        "id": "caEJzNeQs50W",
        "outputId": "3bb6e9ee-6b8f-4e74-bffc-c7cfc2d93b50"
      },
      "source": [
        "flierprops = dict(marker='o', markerfacecolor='purple', markersize=6,\n",
        "                  linestyle='none', markeredgecolor='black')\n",
        "plt.figure(figsize=(18,6))\n",
        "sns.set_theme(color_codes=True)\n",
        "ax = sns.boxplot(data=sales_train, y=\"item_price\", x = 'item_id',color='yellow',flierprops=flierprops)\n",
        "plt.title('Price per items')\n",
        "plt.show()"
      ],
      "execution_count": null,
      "outputs": [
        {
          "output_type": "display_data",
          "data": {
            "image/png": "[encoded data removed]",
            "text/plain": [
              "<Figure size 1296x432 with 1 Axes>"
            ]
          },
          "metadata": {
            "tags": []
          }
        }
      ]
    },
    {
      "cell_type": "markdown",
      "metadata": {
        "id": "cHQfjXzt9WPh"
      },
      "source": [
        "Se observa que hay algunos valores muy altos comparados con los demás del dataset. Se eliminan estoy valores."
      ]
    },
    {
      "cell_type": "code",
      "metadata": {
        "id": "sXvswoRl1dPQ"
      },
      "source": [
        "sales_train = sales_train[sales_train.item_price<50000]"
      ],
      "execution_count": null,
      "outputs": []
    },
    {
      "cell_type": "code",
      "metadata": {
        "colab": {
          "base_uri": "https://localhost:8080/"
        },
        "id": "6J61g4qr1mUv",
        "outputId": "4262395c-6911-4047-e5ee-1de785c0c62f"
      },
      "source": [
        "flierprops = dict(marker='o', markerfacecolor='purple', markersize=6,\n",
        "                  linestyle='none', markeredgecolor='black')\n",
        "plt.figure(figsize=(18,6))\n",
        "sns.set_theme(color_codes=True)\n",
        "ax = sns.boxplot(data=sales_train, y=\"item_price\", x = 'item_id',color='yellow',flierprops=flierprops)\n",
        "plt.title('Price per items')\n",
        "plt.show()"
      ],
      "execution_count": null,
      "outputs": [
        {
          "output_type": "display_data",
          "data": {
            "image/png": "[encoded data removed]",
            "text/plain": [
              "<Figure size 1296x432 with 1 Axes>"
            ]
          },
          "metadata": {
            "tags": []
          }
        }
      ]
    },
    {
      "cell_type": "code",
      "metadata": {
        "id": "nbOwLcwQ9H0a"
      },
      "source": [
        "sales_train.to_csv('New_Datasets/sales_train.csv',index=False)"
      ],
      "execution_count": null,
      "outputs": []
    },
    {
      "cell_type": "markdown",
      "metadata": {
        "id": "kdB7RBgDCBUs"
      },
      "source": [
        "##**6.test.csv**"
      ]
    },
    {
      "cell_type": "code",
      "metadata": {
        "colab": {
          "base_uri": "https://localhost:8080/",
          "height": 382
        },
        "id": "ipxwAszTyA-v",
        "outputId": "d3631490-2160-4e4c-fccc-0ac8b542381c"
      },
      "source": [
        "test = pd.read_csv('MonografiaGithub/Datasets/test.csv')\n",
        "test.head(10)"
      ],
      "execution_count": null,
      "outputs": [
        {
          "output_type": "execute_result",
          "data": {
            "text/html": [
              "<div>\n",
              "<style scoped>\n",
              "    .dataframe tbody tr th:only-of-type {\n",
              "        vertical-align: middle;\n",
              "    }\n",
              "\n",
              "    .dataframe tbody tr th {\n",
              "        vertical-align: top;\n",
              "    }\n",
              "\n",
              "    .dataframe thead th {\n",
              "        text-align: right;\n",
              "    }\n",
              "</style>\n",
              "<table border=\"1\" class=\"dataframe\">\n",
              "  <thead>\n",
              "    <tr style=\"text-align: right;\">\n",
              "      <th></th>\n",
              "      <th>ID</th>\n",
              "      <th>shop_id</th>\n",
              "      <th>item_id</th>\n",
              "    </tr>\n",
              "  </thead>\n",
              "  <tbody>\n",
              "    <tr>\n",
              "      <th>0</th>\n",
              "      <td>0</td>\n",
              "      <td>5</td>\n",
              "      <td>5037</td>\n",
              "    </tr>\n",
              "    <tr>\n",
              "      <th>1</th>\n",
              "      <td>1</td>\n",
              "      <td>5</td>\n",
              "      <td>5320</td>\n",
              "    </tr>\n",
              "    <tr>\n",
              "      <th>2</th>\n",
              "      <td>2</td>\n",
              "      <td>5</td>\n",
              "      <td>5233</td>\n",
              "    </tr>\n",
              "    <tr>\n",
              "      <th>3</th>\n",
              "      <td>3</td>\n",
              "      <td>5</td>\n",
              "      <td>5232</td>\n",
              "    </tr>\n",
              "    <tr>\n",
              "      <th>4</th>\n",
              "      <td>4</td>\n",
              "      <td>5</td>\n",
              "      <td>5268</td>\n",
              "    </tr>\n",
              "    <tr>\n",
              "      <th>5</th>\n",
              "      <td>5</td>\n",
              "      <td>5</td>\n",
              "      <td>5039</td>\n",
              "    </tr>\n",
              "    <tr>\n",
              "      <th>6</th>\n",
              "      <td>6</td>\n",
              "      <td>5</td>\n",
              "      <td>5041</td>\n",
              "    </tr>\n",
              "    <tr>\n",
              "      <th>7</th>\n",
              "      <td>7</td>\n",
              "      <td>5</td>\n",
              "      <td>5046</td>\n",
              "    </tr>\n",
              "    <tr>\n",
              "      <th>8</th>\n",
              "      <td>8</td>\n",
              "      <td>5</td>\n",
              "      <td>5319</td>\n",
              "    </tr>\n",
              "    <tr>\n",
              "      <th>9</th>\n",
              "      <td>9</td>\n",
              "      <td>5</td>\n",
              "      <td>5003</td>\n",
              "    </tr>\n",
              "  </tbody>\n",
              "</table>\n",
              "</div>"
            ],
            "text/plain": [
              "   ID  shop_id  item_id\n",
              "0   0        5     5037\n",
              "1   1        5     5320\n",
              "2   2        5     5233\n",
              "3   3        5     5232\n",
              "4   4        5     5268\n",
              "5   5        5     5039\n",
              "6   6        5     5041\n",
              "7   7        5     5046\n",
              "8   8        5     5319\n",
              "9   9        5     5003"
            ]
          },
          "metadata": {
            "tags": []
          },
          "execution_count": 32
        }
      ]
    },
    {
      "cell_type": "code",
      "metadata": {
        "colab": {
          "base_uri": "https://localhost:8080/"
        },
        "id": "di1TZEDwCTgE",
        "outputId": "22a6cbaf-b27a-4ae4-d8f4-aa6c1d07fb3a"
      },
      "source": [
        "test.isnull().values.sum()"
      ],
      "execution_count": null,
      "outputs": [
        {
          "output_type": "execute_result",
          "data": {
            "text/plain": [
              "0"
            ]
          },
          "metadata": {
            "tags": []
          },
          "execution_count": 33
        }
      ]
    },
    {
      "cell_type": "code",
      "metadata": {
        "id": "FlUNgov-Cg6m"
      },
      "source": [
        "test.to_csv('New_Datasets/test.csv',index=False)"
      ],
      "execution_count": null,
      "outputs": []
    }
  ]
}