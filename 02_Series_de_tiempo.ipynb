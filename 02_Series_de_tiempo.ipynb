{
  "nbformat": 4,
  "nbformat_minor": 0,
  "metadata": {
    "colab": {
      "name": "02 - Series de tiempo.ipynb",
      "provenance": [],
      "collapsed_sections": []
    },
    "kernelspec": {
      "display_name": "Python 3",
      "name": "python3"
    },
    "language_info": {
      "name": "python"
    }
  },
  "cells": [
    {
      "cell_type": "markdown",
      "metadata": {
        "id": "BbCVQf8q6VUB"
      },
      "source": [
        "*Nombre Completo:* Victor Alberto Lizcano Portilla\n",
        "\n",
        "*Cédula:* 1.094.270.723\n",
        "\n",
        "*Correo Institucional:* alberto.lizcano@udea.edu.co\n",
        "\n",
        "\n",
        "*Nombre Completo:* Jimmy Alexander Romero Miranda\n",
        "\n",
        "*Cédula:* 1.017.203.451\n",
        "\n",
        "*Correo Institucional:* jimmy.romero@udea.edu.co"
      ]
    },
    {
      "cell_type": "markdown",
      "metadata": {
        "id": "W-yWZHG0Loi2"
      },
      "source": [
        "#**Primera Iteración**\n",
        "\n",
        "A continuación se muestra el proceso utilizado para generar el entrenamiento y la primera iteración de nuestro modelo de predicción de ventas."
      ]
    },
    {
      "cell_type": "markdown",
      "metadata": {
        "id": "M-zN15UWMkra"
      },
      "source": [
        "Inicialmente se procede a clonar el repositorio disponible en *GitHub* https://github.com/Alberto7526/MonografiaGithub.git donde se encuentra alojado todos los archivos necesarios para la ejecución del proyecto."
      ]
    },
    {
      "cell_type": "code",
      "metadata": {
        "colab": {
          "base_uri": "https://localhost:8080/"
        },
        "id": "pkkqmQfqIYGX",
        "outputId": "7a5f32d6-7a58-4524-ec13-957a6fd55dbc"
      },
      "source": [
        "!git clone https://github.com/Alberto7526/MonografiaGithub.git"
      ],
      "execution_count": 1,
      "outputs": [
        {
          "output_type": "stream",
          "text": [
            "Cloning into 'MonografiaGithub'...\n",
            "remote: Enumerating objects: 46, done.\u001b[K\n",
            "remote: Counting objects: 100% (46/46), done.\u001b[K\n",
            "remote: Compressing objects: 100% (37/37), done.\u001b[K\n",
            "remote: Total 46 (delta 12), reused 37 (delta 7), pack-reused 0\u001b[K\n",
            "Unpacking objects: 100% (46/46), done.\n",
            "Checking out files: 100% (13/13), done.\n"
          ],
          "name": "stdout"
        }
      ]
    },
    {
      "cell_type": "markdown",
      "metadata": {
        "id": "7Omr3isCNcDh"
      },
      "source": [
        "Importamos los paquetes necesarios para la ejecución del proyecto"
      ]
    },
    {
      "cell_type": "code",
      "metadata": {
        "id": "nuuSxPUAIu_v"
      },
      "source": [
        "import os\n",
        "import pandas as pd\n",
        "import numpy as np \n",
        "from sklearn.model_selection import train_test_split\n",
        "from sklearn.ensemble import RandomForestRegressor\n",
        "from sklearn.pipeline import Pipeline\n",
        "from sklearn.externals import joblib\n",
        "import matplotlib.pyplot as plt\n",
        "import seaborn as sns"
      ],
      "execution_count": 14,
      "outputs": []
    },
    {
      "cell_type": "markdown",
      "metadata": {
        "id": "UVUQn9NScDJR"
      },
      "source": [
        "##**Carga del dataset**\n",
        "\n",
        "<p aling = justify>En el notebook anterior <i>01 - preprocesamiento.ipynb</i>, se realiza la verificación de los datos y limpieza de los mismos, eliminando datos outliers y valores nulos, por lo que se genera un nuevo archivo <i>sales_train.csv</i><p>. \n",
        "<p aling = justify>En esta sección cargamos el archivo con ayuda de pandas ubicado en la carpeta <i>New_Datasets</i>, debido al tamaño del archivo y la limitante en memoria presente en colab, solo se trabaja con las primeras 2.000.000 filas, como se indica en el código a continuación.<p>"
      ]
    },
    {
      "cell_type": "code",
      "metadata": {
        "colab": {
          "base_uri": "https://localhost:8080/",
          "height": 419
        },
        "id": "wv_2g2Z9IzvE",
        "outputId": "3e5c54f3-b625-44d3-e85a-44b3e004dc71"
      },
      "source": [
        "sales_train = pd.read_csv('MonografiaGithub/New_Datasets/sales_train.csv')\n",
        "sales_train['date'] = pd.to_datetime(sales_train['date'],errors='coerce', dayfirst=True)\n",
        "sales_train"
      ],
      "execution_count": 3,
      "outputs": [
        {
          "output_type": "execute_result",
          "data": {
            "text/html": [
              "<div>\n",
              "<style scoped>\n",
              "    .dataframe tbody tr th:only-of-type {\n",
              "        vertical-align: middle;\n",
              "    }\n",
              "\n",
              "    .dataframe tbody tr th {\n",
              "        vertical-align: top;\n",
              "    }\n",
              "\n",
              "    .dataframe thead th {\n",
              "        text-align: right;\n",
              "    }\n",
              "</style>\n",
              "<table border=\"1\" class=\"dataframe\">\n",
              "  <thead>\n",
              "    <tr style=\"text-align: right;\">\n",
              "      <th></th>\n",
              "      <th>date</th>\n",
              "      <th>date_block_num</th>\n",
              "      <th>shop_id</th>\n",
              "      <th>item_id</th>\n",
              "      <th>item_price</th>\n",
              "      <th>item_cnt_day</th>\n",
              "    </tr>\n",
              "  </thead>\n",
              "  <tbody>\n",
              "    <tr>\n",
              "      <th>0</th>\n",
              "      <td>2013-01-02</td>\n",
              "      <td>0</td>\n",
              "      <td>59</td>\n",
              "      <td>22154</td>\n",
              "      <td>999.00</td>\n",
              "      <td>1.0</td>\n",
              "    </tr>\n",
              "    <tr>\n",
              "      <th>1</th>\n",
              "      <td>2013-01-03</td>\n",
              "      <td>0</td>\n",
              "      <td>25</td>\n",
              "      <td>2552</td>\n",
              "      <td>899.00</td>\n",
              "      <td>1.0</td>\n",
              "    </tr>\n",
              "    <tr>\n",
              "      <th>2</th>\n",
              "      <td>2013-01-05</td>\n",
              "      <td>0</td>\n",
              "      <td>25</td>\n",
              "      <td>2552</td>\n",
              "      <td>899.00</td>\n",
              "      <td>-1.0</td>\n",
              "    </tr>\n",
              "    <tr>\n",
              "      <th>3</th>\n",
              "      <td>2013-01-06</td>\n",
              "      <td>0</td>\n",
              "      <td>25</td>\n",
              "      <td>2554</td>\n",
              "      <td>1709.05</td>\n",
              "      <td>1.0</td>\n",
              "    </tr>\n",
              "    <tr>\n",
              "      <th>4</th>\n",
              "      <td>2013-01-15</td>\n",
              "      <td>0</td>\n",
              "      <td>25</td>\n",
              "      <td>2555</td>\n",
              "      <td>1099.00</td>\n",
              "      <td>1.0</td>\n",
              "    </tr>\n",
              "    <tr>\n",
              "      <th>...</th>\n",
              "      <td>...</td>\n",
              "      <td>...</td>\n",
              "      <td>...</td>\n",
              "      <td>...</td>\n",
              "      <td>...</td>\n",
              "      <td>...</td>\n",
              "    </tr>\n",
              "    <tr>\n",
              "      <th>2935837</th>\n",
              "      <td>2015-10-10</td>\n",
              "      <td>33</td>\n",
              "      <td>25</td>\n",
              "      <td>7409</td>\n",
              "      <td>299.00</td>\n",
              "      <td>1.0</td>\n",
              "    </tr>\n",
              "    <tr>\n",
              "      <th>2935838</th>\n",
              "      <td>2015-10-09</td>\n",
              "      <td>33</td>\n",
              "      <td>25</td>\n",
              "      <td>7460</td>\n",
              "      <td>299.00</td>\n",
              "      <td>1.0</td>\n",
              "    </tr>\n",
              "    <tr>\n",
              "      <th>2935839</th>\n",
              "      <td>2015-10-14</td>\n",
              "      <td>33</td>\n",
              "      <td>25</td>\n",
              "      <td>7459</td>\n",
              "      <td>349.00</td>\n",
              "      <td>1.0</td>\n",
              "    </tr>\n",
              "    <tr>\n",
              "      <th>2935840</th>\n",
              "      <td>2015-10-22</td>\n",
              "      <td>33</td>\n",
              "      <td>25</td>\n",
              "      <td>7440</td>\n",
              "      <td>299.00</td>\n",
              "      <td>1.0</td>\n",
              "    </tr>\n",
              "    <tr>\n",
              "      <th>2935841</th>\n",
              "      <td>2015-10-03</td>\n",
              "      <td>33</td>\n",
              "      <td>25</td>\n",
              "      <td>7460</td>\n",
              "      <td>299.00</td>\n",
              "      <td>1.0</td>\n",
              "    </tr>\n",
              "  </tbody>\n",
              "</table>\n",
              "<p>2935842 rows × 6 columns</p>\n",
              "</div>"
            ],
            "text/plain": [
              "              date  date_block_num  shop_id  item_id  item_price  item_cnt_day\n",
              "0       2013-01-02               0       59    22154      999.00           1.0\n",
              "1       2013-01-03               0       25     2552      899.00           1.0\n",
              "2       2013-01-05               0       25     2552      899.00          -1.0\n",
              "3       2013-01-06               0       25     2554     1709.05           1.0\n",
              "4       2013-01-15               0       25     2555     1099.00           1.0\n",
              "...            ...             ...      ...      ...         ...           ...\n",
              "2935837 2015-10-10              33       25     7409      299.00           1.0\n",
              "2935838 2015-10-09              33       25     7460      299.00           1.0\n",
              "2935839 2015-10-14              33       25     7459      349.00           1.0\n",
              "2935840 2015-10-22              33       25     7440      299.00           1.0\n",
              "2935841 2015-10-03              33       25     7460      299.00           1.0\n",
              "\n",
              "[2935842 rows x 6 columns]"
            ]
          },
          "metadata": {
            "tags": []
          },
          "execution_count": 3
        }
      ]
    },
    {
      "cell_type": "markdown",
      "metadata": {
        "id": "z5tw_sCHcL9C"
      },
      "source": [
        "#**Agrupando las ventas por mes**\n",
        "\n",
        "En esta sección se agrupa los ventas de cada producto por mes, tienda y producto, ya que en el modelo final se requere hacer la predicción de las ventas de x producto perteneciente a determinada tienda en un mes.  "
      ]
    },
    {
      "cell_type": "code",
      "metadata": {
        "colab": {
          "base_uri": "https://localhost:8080/",
          "height": 419
        },
        "id": "i3xYY0B9RqRb",
        "outputId": "82d8e7bc-7e2a-4f21-b0eb-3cf153927462"
      },
      "source": [
        "sales_train = sales_train.groupby(by=['date_block_num','item_id'],as_index=False).agg(y=pd.NamedAgg(column='item_cnt_day', aggfunc='sum'))\n",
        "sales_train"
      ],
      "execution_count": 4,
      "outputs": [
        {
          "output_type": "execute_result",
          "data": {
            "text/html": [
              "<div>\n",
              "<style scoped>\n",
              "    .dataframe tbody tr th:only-of-type {\n",
              "        vertical-align: middle;\n",
              "    }\n",
              "\n",
              "    .dataframe tbody tr th {\n",
              "        vertical-align: top;\n",
              "    }\n",
              "\n",
              "    .dataframe thead th {\n",
              "        text-align: right;\n",
              "    }\n",
              "</style>\n",
              "<table border=\"1\" class=\"dataframe\">\n",
              "  <thead>\n",
              "    <tr style=\"text-align: right;\">\n",
              "      <th></th>\n",
              "      <th>date_block_num</th>\n",
              "      <th>item_id</th>\n",
              "      <th>y</th>\n",
              "    </tr>\n",
              "  </thead>\n",
              "  <tbody>\n",
              "    <tr>\n",
              "      <th>0</th>\n",
              "      <td>0</td>\n",
              "      <td>19</td>\n",
              "      <td>1.0</td>\n",
              "    </tr>\n",
              "    <tr>\n",
              "      <th>1</th>\n",
              "      <td>0</td>\n",
              "      <td>27</td>\n",
              "      <td>7.0</td>\n",
              "    </tr>\n",
              "    <tr>\n",
              "      <th>2</th>\n",
              "      <td>0</td>\n",
              "      <td>28</td>\n",
              "      <td>8.0</td>\n",
              "    </tr>\n",
              "    <tr>\n",
              "      <th>3</th>\n",
              "      <td>0</td>\n",
              "      <td>29</td>\n",
              "      <td>4.0</td>\n",
              "    </tr>\n",
              "    <tr>\n",
              "      <th>4</th>\n",
              "      <td>0</td>\n",
              "      <td>32</td>\n",
              "      <td>299.0</td>\n",
              "    </tr>\n",
              "    <tr>\n",
              "      <th>...</th>\n",
              "      <td>...</td>\n",
              "      <td>...</td>\n",
              "      <td>...</td>\n",
              "    </tr>\n",
              "    <tr>\n",
              "      <th>233905</th>\n",
              "      <td>33</td>\n",
              "      <td>22162</td>\n",
              "      <td>10.0</td>\n",
              "    </tr>\n",
              "    <tr>\n",
              "      <th>233906</th>\n",
              "      <td>33</td>\n",
              "      <td>22163</td>\n",
              "      <td>26.0</td>\n",
              "    </tr>\n",
              "    <tr>\n",
              "      <th>233907</th>\n",
              "      <td>33</td>\n",
              "      <td>22164</td>\n",
              "      <td>15.0</td>\n",
              "    </tr>\n",
              "    <tr>\n",
              "      <th>233908</th>\n",
              "      <td>33</td>\n",
              "      <td>22166</td>\n",
              "      <td>11.0</td>\n",
              "    </tr>\n",
              "    <tr>\n",
              "      <th>233909</th>\n",
              "      <td>33</td>\n",
              "      <td>22167</td>\n",
              "      <td>37.0</td>\n",
              "    </tr>\n",
              "  </tbody>\n",
              "</table>\n",
              "<p>233910 rows × 3 columns</p>\n",
              "</div>"
            ],
            "text/plain": [
              "        date_block_num  item_id      y\n",
              "0                    0       19    1.0\n",
              "1                    0       27    7.0\n",
              "2                    0       28    8.0\n",
              "3                    0       29    4.0\n",
              "4                    0       32  299.0\n",
              "...                ...      ...    ...\n",
              "233905              33    22162   10.0\n",
              "233906              33    22163   26.0\n",
              "233907              33    22164   15.0\n",
              "233908              33    22166   11.0\n",
              "233909              33    22167   37.0\n",
              "\n",
              "[233910 rows x 3 columns]"
            ]
          },
          "metadata": {
            "tags": []
          },
          "execution_count": 4
        }
      ]
    },
    {
      "cell_type": "markdown",
      "metadata": {
        "id": "x20MHMgiT0tC"
      },
      "source": [
        "#**Transformación del dataset de entrenamiento**\n",
        "\n",
        "<p aling = justify>Para realizar las predicciones de las ventas futuras, se procede a organizar el dataset en filas, de tal manera que cada una de ellas lleve un historico en meses de las ventas y el mes actual como etiqueta para el dato a predecir.<p>\n",
        "\n"
      ]
    },
    {
      "cell_type": "markdown",
      "metadata": {
        "id": "jCBu4a078a0R"
      },
      "source": [
        "##**Función transformación**\n",
        "\n",
        "La función transformación recibe como parametro el dataset y retorna un diccionario, donde cada llave corresponde al item del producto a predecir y los valores, son las ventas del producto organizadas por mes.  "
      ]
    },
    {
      "cell_type": "code",
      "metadata": {
        "id": "yMav_RSGSH81"
      },
      "source": [
        "def transformation(d):\n",
        "    items = {}\n",
        "    for i in d.item_id.unique():\n",
        "      if not (i in items):\n",
        "        items[i] = [0]*34\n",
        "    for i in d.index:\n",
        "      item = d.item_id[i]\n",
        "      #shop = d.shop_id[i]\n",
        "      block = d.date_block_num[i]\n",
        "      items[item][block] = d.y[i]\n",
        "    return (items)\n",
        "    "
      ],
      "execution_count": 5,
      "outputs": []
    },
    {
      "cell_type": "markdown",
      "metadata": {
        "id": "AQsyLFGheRUl"
      },
      "source": [
        "##**Función timeseries**\n",
        "\n",
        "Esta función tiene como parametros de entrada el *diccionario* generado en la función transformación y *step* que para esta caso será el número de meses historico que se tendrá en cuenta para realizar la predicción de las ventas en el mes siguiente.   "
      ]
    },
    {
      "cell_type": "code",
      "metadata": {
        "id": "GAmkGn9-cTPq"
      },
      "source": [
        "def timeseries(dictionary,step):\n",
        "    data = {'item':[]}\n",
        "    for i in range(step):\n",
        "      data['y_'+str(i)]=[]\n",
        "    data['y']=[]\n",
        "    for clave,valor in dictionary.items():\n",
        "      for k in range(0,len(valor)-step):\n",
        "        data['item'].append(clave)\n",
        "        for i in range(step):\n",
        "          data['y_'+str(i)].append(int(valor[k+i]))\n",
        "        data['y'].append(int(valor[k+step]))\n",
        "    return data"
      ],
      "execution_count": 6,
      "outputs": []
    },
    {
      "cell_type": "markdown",
      "metadata": {
        "id": "v8seTvhUfZNG"
      },
      "source": [
        "Aplicamos las funciones mencionadas anteriormente y generamos un nuevo dataset"
      ]
    },
    {
      "cell_type": "code",
      "metadata": {
        "id": "SicXLiZ8-bfx"
      },
      "source": [
        "sales_train = pd.DataFrame(timeseries((transformation(sales_train)),4))"
      ],
      "execution_count": 7,
      "outputs": []
    },
    {
      "cell_type": "markdown",
      "metadata": {
        "id": "sa16vo7YfmK9"
      },
      "source": [
        "Debido a que el dataset no presenta información en ventas por mes de todos los productos contemplados inicialmente, se procede a filtrar aquellos que presenten una ventas de cero. "
      ]
    },
    {
      "cell_type": "code",
      "metadata": {
        "colab": {
          "base_uri": "https://localhost:8080/",
          "height": 419
        },
        "id": "EcI9YIFt7Np2",
        "outputId": "d8704475-b2c0-4bbc-fff7-896fd5309599"
      },
      "source": [
        "train_filtered = sales_train[sales_train.y>0]\n",
        "train_filtered"
      ],
      "execution_count": 8,
      "outputs": [
        {
          "output_type": "execute_result",
          "data": {
            "text/html": [
              "<div>\n",
              "<style scoped>\n",
              "    .dataframe tbody tr th:only-of-type {\n",
              "        vertical-align: middle;\n",
              "    }\n",
              "\n",
              "    .dataframe tbody tr th {\n",
              "        vertical-align: top;\n",
              "    }\n",
              "\n",
              "    .dataframe thead th {\n",
              "        text-align: right;\n",
              "    }\n",
              "</style>\n",
              "<table border=\"1\" class=\"dataframe\">\n",
              "  <thead>\n",
              "    <tr style=\"text-align: right;\">\n",
              "      <th></th>\n",
              "      <th>item</th>\n",
              "      <th>y_0</th>\n",
              "      <th>y_1</th>\n",
              "      <th>y_2</th>\n",
              "      <th>y_3</th>\n",
              "      <th>y</th>\n",
              "    </tr>\n",
              "  </thead>\n",
              "  <tbody>\n",
              "    <tr>\n",
              "      <th>30</th>\n",
              "      <td>27</td>\n",
              "      <td>7</td>\n",
              "      <td>3</td>\n",
              "      <td>4</td>\n",
              "      <td>1</td>\n",
              "      <td>2</td>\n",
              "    </tr>\n",
              "    <tr>\n",
              "      <th>31</th>\n",
              "      <td>27</td>\n",
              "      <td>3</td>\n",
              "      <td>4</td>\n",
              "      <td>1</td>\n",
              "      <td>2</td>\n",
              "      <td>2</td>\n",
              "    </tr>\n",
              "    <tr>\n",
              "      <th>32</th>\n",
              "      <td>27</td>\n",
              "      <td>4</td>\n",
              "      <td>1</td>\n",
              "      <td>2</td>\n",
              "      <td>2</td>\n",
              "      <td>3</td>\n",
              "    </tr>\n",
              "    <tr>\n",
              "      <th>33</th>\n",
              "      <td>27</td>\n",
              "      <td>1</td>\n",
              "      <td>2</td>\n",
              "      <td>2</td>\n",
              "      <td>3</td>\n",
              "      <td>1</td>\n",
              "    </tr>\n",
              "    <tr>\n",
              "      <th>34</th>\n",
              "      <td>27</td>\n",
              "      <td>2</td>\n",
              "      <td>2</td>\n",
              "      <td>3</td>\n",
              "      <td>1</td>\n",
              "      <td>1</td>\n",
              "    </tr>\n",
              "    <tr>\n",
              "      <th>...</th>\n",
              "      <td>...</td>\n",
              "      <td>...</td>\n",
              "      <td>...</td>\n",
              "      <td>...</td>\n",
              "      <td>...</td>\n",
              "      <td>...</td>\n",
              "    </tr>\n",
              "    <tr>\n",
              "      <th>654029</th>\n",
              "      <td>21973</td>\n",
              "      <td>0</td>\n",
              "      <td>0</td>\n",
              "      <td>0</td>\n",
              "      <td>0</td>\n",
              "      <td>11</td>\n",
              "    </tr>\n",
              "    <tr>\n",
              "      <th>654059</th>\n",
              "      <td>22004</td>\n",
              "      <td>0</td>\n",
              "      <td>0</td>\n",
              "      <td>0</td>\n",
              "      <td>0</td>\n",
              "      <td>44</td>\n",
              "    </tr>\n",
              "    <tr>\n",
              "      <th>654089</th>\n",
              "      <td>22005</td>\n",
              "      <td>0</td>\n",
              "      <td>0</td>\n",
              "      <td>0</td>\n",
              "      <td>0</td>\n",
              "      <td>30</td>\n",
              "    </tr>\n",
              "    <tr>\n",
              "      <th>654119</th>\n",
              "      <td>22006</td>\n",
              "      <td>0</td>\n",
              "      <td>0</td>\n",
              "      <td>0</td>\n",
              "      <td>0</td>\n",
              "      <td>30</td>\n",
              "    </tr>\n",
              "    <tr>\n",
              "      <th>654149</th>\n",
              "      <td>22158</td>\n",
              "      <td>0</td>\n",
              "      <td>0</td>\n",
              "      <td>0</td>\n",
              "      <td>0</td>\n",
              "      <td>1</td>\n",
              "    </tr>\n",
              "  </tbody>\n",
              "</table>\n",
              "<p>200907 rows × 6 columns</p>\n",
              "</div>"
            ],
            "text/plain": [
              "         item  y_0  y_1  y_2  y_3   y\n",
              "30         27    7    3    4    1   2\n",
              "31         27    3    4    1    2   2\n",
              "32         27    4    1    2    2   3\n",
              "33         27    1    2    2    3   1\n",
              "34         27    2    2    3    1   1\n",
              "...       ...  ...  ...  ...  ...  ..\n",
              "654029  21973    0    0    0    0  11\n",
              "654059  22004    0    0    0    0  44\n",
              "654089  22005    0    0    0    0  30\n",
              "654119  22006    0    0    0    0  30\n",
              "654149  22158    0    0    0    0   1\n",
              "\n",
              "[200907 rows x 6 columns]"
            ]
          },
          "metadata": {
            "tags": []
          },
          "execution_count": 8
        }
      ]
    },
    {
      "cell_type": "markdown",
      "metadata": {
        "id": "AXPxjhugg5at"
      },
      "source": [
        "#**División de los datos y entrenamiento del modelo**\n",
        "\n",
        "Se divide el conjunto de datos en train y test, así como cada subconjunto en X y Y siendo X las caracteristicas y Y los datos deseado del modelo.  "
      ]
    },
    {
      "cell_type": "code",
      "metadata": {
        "id": "9-Nry6nHhSTM"
      },
      "source": [
        "train, test = train_test_split(train_filtered, test_size = 0.30)\n",
        "Xtr, ytr = train[[i for i in train.columns if i!=\"y\"]].values, train.y.values\n",
        "Xts, yts = test[[i for i in test.columns if i!=\"y\"]].values, test.y.values"
      ],
      "execution_count": 9,
      "outputs": []
    },
    {
      "cell_type": "code",
      "metadata": {
        "colab": {
          "base_uri": "https://localhost:8080/"
        },
        "id": "fBiRxMPTnVXh",
        "outputId": "1afbef96-dea6-49f4-9156-785f8b1837ff"
      },
      "source": [
        "estimator = RandomForestRegressor(n_estimators=120, max_depth=10,max_features=0.8)\n",
        "estimator.fit(Xtr,ytr)"
      ],
      "execution_count": 10,
      "outputs": [
        {
          "output_type": "execute_result",
          "data": {
            "text/plain": [
              "RandomForestRegressor(bootstrap=True, ccp_alpha=0.0, criterion='mse',\n",
              "                      max_depth=10, max_features=0.8, max_leaf_nodes=None,\n",
              "                      max_samples=None, min_impurity_decrease=0.0,\n",
              "                      min_impurity_split=None, min_samples_leaf=1,\n",
              "                      min_samples_split=2, min_weight_fraction_leaf=0.0,\n",
              "                      n_estimators=120, n_jobs=None, oob_score=False,\n",
              "                      random_state=None, verbose=0, warm_start=False)"
            ]
          },
          "metadata": {
            "tags": []
          },
          "execution_count": 10
        }
      ]
    },
    {
      "cell_type": "markdown",
      "metadata": {
        "id": "qevo4emYMR97"
      },
      "source": [
        "Evaluación del modelo utilizando el coeficiente de determinación $R^2$"
      ]
    },
    {
      "cell_type": "code",
      "metadata": {
        "colab": {
          "base_uri": "https://localhost:8080/"
        },
        "id": "WLW7sE18nVdB",
        "outputId": "f610bf2b-6fd1-48d1-8b51-7d8763e09713"
      },
      "source": [
        "print (\"train accuracy %.2f\"%estimator.score(Xtr,ytr))\n",
        "print (\"test accuracy  %.2f\"%estimator.score(Xts,yts))"
      ],
      "execution_count": 11,
      "outputs": [
        {
          "output_type": "stream",
          "text": [
            "train accuracy 0.80\n",
            "test accuracy  0.63\n"
          ],
          "name": "stdout"
        }
      ]
    },
    {
      "cell_type": "markdown",
      "metadata": {
        "id": "QzpLUFsXCXSJ"
      },
      "source": [
        "Una vez se tiene el modelo entrenado se procede a guardarlo en la carpeta Model"
      ]
    },
    {
      "cell_type": "code",
      "metadata": {
        "colab": {
          "base_uri": "https://localhost:8080/"
        },
        "id": "gM53P2kbA3Cp",
        "outputId": "3736abca-8f23-43f2-e08d-592a47e8b513"
      },
      "source": [
        "try:\n",
        "    os.mkdir('Model')\n",
        "except OSError:\n",
        "    pass\n",
        "joblib.dump(estimator, 'Model/model.joblib')"
      ],
      "execution_count": 17,
      "outputs": [
        {
          "output_type": "execute_result",
          "data": {
            "text/plain": [
              "['Model/model.joblib']"
            ]
          },
          "metadata": {
            "tags": []
          },
          "execution_count": 17
        }
      ]
    },
    {
      "cell_type": "markdown",
      "metadata": {
        "id": "T1uVdNOKCweh"
      },
      "source": [
        "Para comprobar que el modelo guardado tiene un funcionamiento correcto, se procede a cargarlo y realizar una predicción con los datos de prueba."
      ]
    },
    {
      "cell_type": "code",
      "metadata": {
        "colab": {
          "base_uri": "https://localhost:8080/"
        },
        "id": "16q0Xk8MB8hC",
        "outputId": "85d153be-3499-49d5-af43-beeb5698a556"
      },
      "source": [
        "model = joblib.load('Model/model.joblib')\n",
        "predictions = modelo.predict(Xts)\n",
        "print (\"test accuracy with saved model  %.2f\"%model.score(Xts,yts))"
      ],
      "execution_count": 22,
      "outputs": [
        {
          "output_type": "stream",
          "text": [
            "test accuracy with saved model  0.63\n"
          ],
          "name": "stdout"
        }
      ]
    },
    {
      "cell_type": "markdown",
      "metadata": {
        "id": "I2dyRHw_2vXF"
      },
      "source": [
        "#**Métricas utilizadas**\n",
        "\n",
        "- Para el proceso de entrenamiento se utilizó el error cuadrático medio como función de costo y para evaluar el modelo se utilizó el coeficiente de determinación $R^2$. \n",
        "\n"
      ]
    },
    {
      "cell_type": "markdown",
      "metadata": {
        "id": "FSmEwvzjLtfs"
      },
      "source": [
        "###**Error cuadrático medio** \n",
        "\n",
        "Calcula el promedio de los errores al cuadrado, está definido por la siguiente ecuación: \n",
        "\n",
        "$ECM=\\frac{1}{n}\\sum_{i=1}^n(y_i-p_i)^2$\n",
        "\n",
        "Donde $y_i$ corresponte al valor esperado, $p_i$ a la predicción hecha por el modelo y $n$ el número de muestras. \n",
        "\n"
      ]
    },
    {
      "cell_type": "markdown",
      "metadata": {
        "id": "ENvgpaf3Lzjb"
      },
      "source": [
        "###**Coeficiente de determinación $R^2$**\n",
        "\n",
        "El método utilizado para evaluar el modelo es el coeficiente de determinación $R^2$, el cual permite medir que tan bien el modelo puede explicar los datos siendo 1 el valor óptimo y 0 el caso donde el modelo no tiene ninguna correlación con los datos. Esta definido por la siguiente ecuación. \n",
        "\n",
        "$R^2 = 1-\\frac{u}{v}$\n",
        "\n",
        "Donde: \n",
        "\n",
        "$u=\\sum_{i=1}^n(y_i-p_i)^2$\n",
        "\n",
        "$v=\\sum_{i=1}^n(y_i-mean(p_i))^2$"
      ]
    }
  ]
}