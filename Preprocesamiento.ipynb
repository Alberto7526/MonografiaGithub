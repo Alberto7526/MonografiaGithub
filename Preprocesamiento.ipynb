{
  "nbformat": 4,
  "nbformat_minor": 0,
  "metadata": {
    "colab": {
      "name": "Preprocesamiento.ipynb",
      "provenance": [],
      "collapsed_sections": []
    },
    "kernelspec": {
      "display_name": "Python 3",
      "language": "python",
      "name": "python3"
    },
    "language_info": {
      "codemirror_mode": {
        "name": "ipython",
        "version": 3
      },
      "file_extension": ".py",
      "mimetype": "text/x-python",
      "name": "python",
      "nbconvert_exporter": "python",
      "pygments_lexer": "ipython3",
      "version": "3.8.3"
    }
  },
  "cells": [
    {
      "cell_type": "markdown",
      "metadata": {
        "id": "p1RIZ7haZgll"
      },
      "source": [
        "# **PREPROCESAMIENTO Y LIMPIEZA DE LOS DATOS**\n",
        "\n",
        "<p align=justify> Este notebook tiene como propósito entender cada uno de los archivos <i>.csv </i> suministrados por la competencia de kaggle <b>\"Predict Future Sales\"</b>, y de igual manera realizar algún tipo de preprocesamiento en los datos que a consideración del autor así lo requiera.\n",
        "\n",
        "Los archivos *.csv* simunistrados son:\n",
        "\n",
        "1. item_categories.csv\n",
        "2. items.csv\n",
        "3. shops.csv\n",
        "4. sample_submission.csv\n",
        "5. sales_train.csv\n",
        "6. test.csv\n",
        "\n",
        "<p align=justify> A continuación se procede a explicar cada uno de los archivos y  el correspondiente ajuste a realizado para cada uno de ellos, así como los paquetes necesarios para dichas modificaciones."
      ]
    },
    {
      "cell_type": "markdown",
      "metadata": {
        "id": "IDYRCWA4kvII"
      },
      "source": [
        "## **CARGAR LOS DATOS E IMPORTAR LOS PAQUETES NECESARIOS**\n",
        "\n",
        "<p align=justify> Para tener acceso a los archivos mencionados anteriormente, se procede a clonar el repositorio de GitHub  <i>monografía</i> utilizando el comando <b>git clone.</b> </p>\n",
        "\n",
        "<p align=justify>Para acceder al repositorio lo puede hacer a través del siguiente enlace \"<a>https://github.com/Alberto7526/MonografiaGithub.git</a>\" una vez ahí podrá encontrar todos los archivos, datasets y notebooks necesarios para la ejecución de este proyecto.</p>"
      ]
    },
    {
      "cell_type": "code",
      "metadata": {
        "colab": {
          "base_uri": "https://localhost:8080/"
        },
        "id": "LAK2EuAdum5F",
        "outputId": "9d46a186-b7ca-441c-8833-5186468300ac"
      },
      "source": [
        "!git clone https://github.com/Alberto7526/MonografiaGithub.git"
      ],
      "execution_count": 1,
      "outputs": [
        {
          "output_type": "stream",
          "text": [
            "Cloning into 'MonografiaGithub'...\n",
            "remote: Enumerating objects: 28, done.\u001b[K\n",
            "remote: Counting objects: 100% (28/28), done.\u001b[K\n",
            "remote: Compressing objects: 100% (24/24), done.\u001b[K\n",
            "remote: Total 28 (delta 3), reused 26 (delta 2), pack-reused 0\u001b[K\n",
            "Unpacking objects: 100% (28/28), done.\n"
          ],
          "name": "stdout"
        }
      ]
    },
    {
      "cell_type": "markdown",
      "metadata": {
        "id": "iQaKW2LkGyFO"
      },
      "source": [
        "Importando los paquetes necesarios "
      ]
    },
    {
      "cell_type": "code",
      "metadata": {
        "id": "sq175-e3cNeU"
      },
      "source": [
        "import os\n",
        "import numpy as np \n",
        "import pandas as pd\n",
        "from textblob import TextBlob"
      ],
      "execution_count": 2,
      "outputs": []
    },
    {
      "cell_type": "markdown",
      "metadata": {
        "id": "ixNJaImmnFfH"
      },
      "source": [
        "## **1. item_categories.csv**\n",
        "\n",
        "<p aling = justify> Este archivo presenta una relación entre los nombres de cada una de las categorias a la cual pertenecen los diferentes productos que se ofrecen y su correspondiente ID (número entero), como se puede ver al momento de crear el dataframe denominado <b>item_categories</b> con el archivo .csv, Se observa que el idioma se encuentra en  <i>RUSO</i> por facilidad se procede a realizar su traducción al idioma español, haciendo uso de la libreria <b><i>textblob,</i></b> la cual permite realizar procesamiento de texto, análisis de sentimiento y en este caso traducción del ruso al español basado en la API de google traductor. Empleando la función <b><i>trans_es</i></b>, la cual recibe un <i>String</i> y devuelve el mismo <i>String</i> pero traducido al idioma español.<p>"
      ]
    },
    {
      "cell_type": "markdown",
      "metadata": {
        "id": "bTgQOdY7r8qu"
      },
      "source": [
        "Data frame original"
      ]
    },
    {
      "cell_type": "code",
      "metadata": {
        "colab": {
          "base_uri": "https://localhost:8080/",
          "height": 205
        },
        "id": "qAEyiI3-rPfO",
        "outputId": "2f078081-3b2c-47b0-f90a-4e4f044df2dc"
      },
      "source": [
        "# Creación del data frame item_categories\n",
        "item_categories = pd.read_csv('MonografiaGithub/Datasets/item_categories.csv')\n",
        "item_categories.head(5)"
      ],
      "execution_count": 3,
      "outputs": [
        {
          "output_type": "execute_result",
          "data": {
            "text/html": [
              "<div>\n",
              "<style scoped>\n",
              "    .dataframe tbody tr th:only-of-type {\n",
              "        vertical-align: middle;\n",
              "    }\n",
              "\n",
              "    .dataframe tbody tr th {\n",
              "        vertical-align: top;\n",
              "    }\n",
              "\n",
              "    .dataframe thead th {\n",
              "        text-align: right;\n",
              "    }\n",
              "</style>\n",
              "<table border=\"1\" class=\"dataframe\">\n",
              "  <thead>\n",
              "    <tr style=\"text-align: right;\">\n",
              "      <th></th>\n",
              "      <th>item_category_name</th>\n",
              "      <th>item_category_id</th>\n",
              "    </tr>\n",
              "  </thead>\n",
              "  <tbody>\n",
              "    <tr>\n",
              "      <th>0</th>\n",
              "      <td>PC - Гарнитуры/Наушники</td>\n",
              "      <td>0</td>\n",
              "    </tr>\n",
              "    <tr>\n",
              "      <th>1</th>\n",
              "      <td>Аксессуары - PS2</td>\n",
              "      <td>1</td>\n",
              "    </tr>\n",
              "    <tr>\n",
              "      <th>2</th>\n",
              "      <td>Аксессуары - PS3</td>\n",
              "      <td>2</td>\n",
              "    </tr>\n",
              "    <tr>\n",
              "      <th>3</th>\n",
              "      <td>Аксессуары - PS4</td>\n",
              "      <td>3</td>\n",
              "    </tr>\n",
              "    <tr>\n",
              "      <th>4</th>\n",
              "      <td>Аксессуары - PSP</td>\n",
              "      <td>4</td>\n",
              "    </tr>\n",
              "  </tbody>\n",
              "</table>\n",
              "</div>"
            ],
            "text/plain": [
              "        item_category_name  item_category_id\n",
              "0  PC - Гарнитуры/Наушники                 0\n",
              "1         Аксессуары - PS2                 1\n",
              "2         Аксессуары - PS3                 2\n",
              "3         Аксессуары - PS4                 3\n",
              "4         Аксессуары - PSP                 4"
            ]
          },
          "metadata": {
            "tags": []
          },
          "execution_count": 3
        }
      ]
    },
    {
      "cell_type": "markdown",
      "metadata": {
        "id": "KAgUhxwHrisj"
      },
      "source": [
        "Se define la función **trans_es** y traduce de la serie **.item_category_name** con ayuda de la función map de pandas"
      ]
    },
    {
      "cell_type": "code",
      "metadata": {
        "id": "3DffBnLqJFv6"
      },
      "source": [
        "def trans_es(x):\n",
        "  eb = TextBlob(x)\n",
        "  trad = eb.translate(to='es')\n",
        "  return  str(trad)"
      ],
      "execution_count": 4,
      "outputs": []
    },
    {
      "cell_type": "code",
      "metadata": {
        "colab": {
          "base_uri": "https://localhost:8080/",
          "height": 205
        },
        "id": "fOzcl9M3ud0n",
        "outputId": "a7ccb423-5f32-451f-b7f9-b5c6cc70c90a"
      },
      "source": [
        "item_categories['item_category_name'] = item_categories['item_category_name'].map(trans_es)\n",
        "item_categories.head(5)"
      ],
      "execution_count": 5,
      "outputs": [
        {
          "output_type": "execute_result",
          "data": {
            "text/html": [
              "<div>\n",
              "<style scoped>\n",
              "    .dataframe tbody tr th:only-of-type {\n",
              "        vertical-align: middle;\n",
              "    }\n",
              "\n",
              "    .dataframe tbody tr th {\n",
              "        vertical-align: top;\n",
              "    }\n",
              "\n",
              "    .dataframe thead th {\n",
              "        text-align: right;\n",
              "    }\n",
              "</style>\n",
              "<table border=\"1\" class=\"dataframe\">\n",
              "  <thead>\n",
              "    <tr style=\"text-align: right;\">\n",
              "      <th></th>\n",
              "      <th>item_category_name</th>\n",
              "      <th>item_category_id</th>\n",
              "    </tr>\n",
              "  </thead>\n",
              "  <tbody>\n",
              "    <tr>\n",
              "      <th>0</th>\n",
              "      <td>PC - Auriculares / Auriculares</td>\n",
              "      <td>0</td>\n",
              "    </tr>\n",
              "    <tr>\n",
              "      <th>1</th>\n",
              "      <td>Accesorios - PS2</td>\n",
              "      <td>1</td>\n",
              "    </tr>\n",
              "    <tr>\n",
              "      <th>2</th>\n",
              "      <td>Accesorios - PS3</td>\n",
              "      <td>2</td>\n",
              "    </tr>\n",
              "    <tr>\n",
              "      <th>3</th>\n",
              "      <td>Accesorios - PS4</td>\n",
              "      <td>3</td>\n",
              "    </tr>\n",
              "    <tr>\n",
              "      <th>4</th>\n",
              "      <td>Accesorios - PSP</td>\n",
              "      <td>4</td>\n",
              "    </tr>\n",
              "  </tbody>\n",
              "</table>\n",
              "</div>"
            ],
            "text/plain": [
              "               item_category_name  item_category_id\n",
              "0  PC - Auriculares / Auriculares                 0\n",
              "1                Accesorios - PS2                 1\n",
              "2                Accesorios - PS3                 2\n",
              "3                Accesorios - PS4                 3\n",
              "4                Accesorios - PSP                 4"
            ]
          },
          "metadata": {
            "tags": []
          },
          "execution_count": 5
        }
      ]
    },
    {
      "cell_type": "markdown",
      "metadata": {
        "id": "4sDnieQmBLlm"
      },
      "source": [
        "###**NOTA**\n",
        "\n",
        "La API de google para traducir los datos tiene un limite de palabras, por lo que para traducir todos los archivos es necesario realizarlo en diferentes momentos y con diferentes cuentas de google"
      ]
    },
    {
      "cell_type": "markdown",
      "metadata": {
        "id": "2Ig5Qy-aB70r"
      },
      "source": [
        "Una vez se ha realizado la traducción de los datos, se procede a verificar la integridad de los mismos.\n",
        "\n",
        "Para este caso solo se verifica si posee valores nulos, y el número de registros existentes.  "
      ]
    },
    {
      "cell_type": "code",
      "metadata": {
        "colab": {
          "base_uri": "https://localhost:8080/"
        },
        "id": "THIHH1XKB2bG",
        "outputId": "6d4a8a39-c654-4fa5-e939-249c5e2501f4"
      },
      "source": [
        "item_categories.isnull().values.sum()"
      ],
      "execution_count": 6,
      "outputs": [
        {
          "output_type": "execute_result",
          "data": {
            "text/plain": [
              "0"
            ]
          },
          "metadata": {
            "tags": []
          },
          "execution_count": 6
        }
      ]
    },
    {
      "cell_type": "code",
      "metadata": {
        "colab": {
          "base_uri": "https://localhost:8080/"
        },
        "id": "gISC95RyDdLg",
        "outputId": "000a6f3d-4d85-48d0-8d49-7eaba3289b13"
      },
      "source": [
        "numero_registros = len(item_categories)\n",
        "numero_valores_distintos = len(item_categories['item_category_name'].unique())\n",
        "print ('Número de registros para item_categories es: {}'\n",
        "        '\\nNúmero de valores unicos es: {}'.format(numero_registros,numero_valores_distintos))"
      ],
      "execution_count": 7,
      "outputs": [
        {
          "output_type": "stream",
          "text": [
            "Número de registros para item_categories es: 84\n",
            "Número de valores unicos es: 84\n"
          ],
          "name": "stdout"
        }
      ]
    },
    {
      "cell_type": "markdown",
      "metadata": {
        "id": "O_OTmeyJs5rc"
      },
      "source": [
        "Como se puede observar no se encuentran valores nulos o repetidos dentro de item_categories, por tanto no es necesario realizar ninguna otra acción sobre el dataframe y se procede a guardar el mismo en la carpeta New_Datasets"
      ]
    },
    {
      "cell_type": "code",
      "metadata": {
        "id": "28ibSlMML_Md"
      },
      "source": [
        "try:\n",
        "    os.mkdir('New_Datasets')\n",
        "except OSError:\n",
        "    pass\n",
        "item_categories.to_csv('New_Datasets/item_categories.csv',index=False)"
      ],
      "execution_count": 8,
      "outputs": []
    },
    {
      "cell_type": "markdown",
      "metadata": {
        "id": "7rtJZzKTt92F"
      },
      "source": [
        "## **2.items.csv**\n",
        "\n",
        "<p aling = justify>  El archivo <b>items.csv</b> presenta el listado de productos disponibles con su respectivo <b>ID</b> y el <b>ID_category</b> el cual indica la categoría a la cual pertenece, definido anteriormente.<p>\n",
        "\n",
        "<p aling = justify> La traducción de este archivo no se realizó debido al número de registros que este posee (22.170), ya que para este proceso sería necesario diseñar un sistema de Inteligencia artificial, el cual podría llegar a ser complejo y no es el enfoque de este proyecto, realizar una partición de los datos o utilizar la versión paga de la API de google mencionada anteriormente.<p> "
      ]
    },
    {
      "cell_type": "code",
      "metadata": {
        "colab": {
          "base_uri": "https://localhost:8080/",
          "height": 205
        },
        "id": "oN5cUUaVb-k-",
        "outputId": "8ebe743c-0b75-4708-ebc9-791144b86596"
      },
      "source": [
        "items = pd.read_csv('MonografiaGithub/Datasets/items.csv')\n",
        "items.head()"
      ],
      "execution_count": 9,
      "outputs": [
        {
          "output_type": "execute_result",
          "data": {
            "text/html": [
              "<div>\n",
              "<style scoped>\n",
              "    .dataframe tbody tr th:only-of-type {\n",
              "        vertical-align: middle;\n",
              "    }\n",
              "\n",
              "    .dataframe tbody tr th {\n",
              "        vertical-align: top;\n",
              "    }\n",
              "\n",
              "    .dataframe thead th {\n",
              "        text-align: right;\n",
              "    }\n",
              "</style>\n",
              "<table border=\"1\" class=\"dataframe\">\n",
              "  <thead>\n",
              "    <tr style=\"text-align: right;\">\n",
              "      <th></th>\n",
              "      <th>item_name</th>\n",
              "      <th>item_id</th>\n",
              "      <th>item_category_id</th>\n",
              "    </tr>\n",
              "  </thead>\n",
              "  <tbody>\n",
              "    <tr>\n",
              "      <th>0</th>\n",
              "      <td>! ВО ВЛАСТИ НАВАЖДЕНИЯ (ПЛАСТ.)         D</td>\n",
              "      <td>0</td>\n",
              "      <td>40</td>\n",
              "    </tr>\n",
              "    <tr>\n",
              "      <th>1</th>\n",
              "      <td>!ABBYY FineReader 12 Professional Edition Full...</td>\n",
              "      <td>1</td>\n",
              "      <td>76</td>\n",
              "    </tr>\n",
              "    <tr>\n",
              "      <th>2</th>\n",
              "      <td>***В ЛУЧАХ СЛАВЫ   (UNV)                    D</td>\n",
              "      <td>2</td>\n",
              "      <td>40</td>\n",
              "    </tr>\n",
              "    <tr>\n",
              "      <th>3</th>\n",
              "      <td>***ГОЛУБАЯ ВОЛНА  (Univ)                      D</td>\n",
              "      <td>3</td>\n",
              "      <td>40</td>\n",
              "    </tr>\n",
              "    <tr>\n",
              "      <th>4</th>\n",
              "      <td>***КОРОБКА (СТЕКЛО)                       D</td>\n",
              "      <td>4</td>\n",
              "      <td>40</td>\n",
              "    </tr>\n",
              "  </tbody>\n",
              "</table>\n",
              "</div>"
            ],
            "text/plain": [
              "                                           item_name  item_id  item_category_id\n",
              "0          ! ВО ВЛАСТИ НАВАЖДЕНИЯ (ПЛАСТ.)         D        0                40\n",
              "1  !ABBYY FineReader 12 Professional Edition Full...        1                76\n",
              "2      ***В ЛУЧАХ СЛАВЫ   (UNV)                    D        2                40\n",
              "3    ***ГОЛУБАЯ ВОЛНА  (Univ)                      D        3                40\n",
              "4        ***КОРОБКА (СТЕКЛО)                       D        4                40"
            ]
          },
          "metadata": {
            "tags": []
          },
          "execution_count": 9
        }
      ]
    },
    {
      "cell_type": "code",
      "metadata": {
        "colab": {
          "base_uri": "https://localhost:8080/"
        },
        "id": "QCv8TKIMEX3C",
        "outputId": "f59184f4-5fe4-40da-bdb7-b783c1b817a3"
      },
      "source": [
        "items.isnull().values.sum()"
      ],
      "execution_count": 10,
      "outputs": [
        {
          "output_type": "execute_result",
          "data": {
            "text/plain": [
              "0"
            ]
          },
          "metadata": {
            "tags": []
          },
          "execution_count": 10
        }
      ]
    },
    {
      "cell_type": "code",
      "metadata": {
        "colab": {
          "base_uri": "https://localhost:8080/"
        },
        "id": "BIBHWHA8xK_u",
        "outputId": "038e86c5-4096-442f-d9cd-3d478557b807"
      },
      "source": [
        "total_productos = len(items.item_id.unique())\n",
        "print ('El número total de productos a predecir es: ',total_productos)"
      ],
      "execution_count": 11,
      "outputs": [
        {
          "output_type": "stream",
          "text": [
            "El número total de productos a predecir es:  22170\n"
          ],
          "name": "stdout"
        }
      ]
    },
    {
      "cell_type": "markdown",
      "metadata": {
        "id": "Jg97LCUOEcJx"
      },
      "source": [
        "Como se puede evidenciar el archivo <b>items.csv</b> no presenta valores nulos o repetidos, ya que este archivo se utilizado solo para brindar información, no se realiza ningun cambio en el mismo. "
      ]
    },
    {
      "cell_type": "code",
      "metadata": {
        "id": "PwQEse3_qMTw"
      },
      "source": [
        "items.to_csv('New_Datasets/items.csv',index=False)"
      ],
      "execution_count": 12,
      "outputs": []
    },
    {
      "cell_type": "markdown",
      "metadata": {
        "id": "ulmDtjv_jToo"
      },
      "source": [
        "## **3.shops.csv**\n",
        "\n",
        "<p aling = justify>El archivo presenta una relación entre los nombre para cada una de las tiendas disponibles con su correspondiente <b>ID</b> (número entero), inicalmente se procede a realizar su traducción al idioma español utilizando la misma función descrita en el inciso <i>1.item_categories</i><p> "
      ]
    },
    {
      "cell_type": "code",
      "metadata": {
        "colab": {
          "base_uri": "https://localhost:8080/",
          "height": 205
        },
        "id": "w7iUVKqux5vX",
        "outputId": "0f9f9a7a-7bdc-4272-92a8-0825765d1ea2"
      },
      "source": [
        "shops = pd.read_csv('MonografiaGithub/Datasets/shops.csv')\n",
        "shops.head(5)"
      ],
      "execution_count": 13,
      "outputs": [
        {
          "output_type": "execute_result",
          "data": {
            "text/html": [
              "<div>\n",
              "<style scoped>\n",
              "    .dataframe tbody tr th:only-of-type {\n",
              "        vertical-align: middle;\n",
              "    }\n",
              "\n",
              "    .dataframe tbody tr th {\n",
              "        vertical-align: top;\n",
              "    }\n",
              "\n",
              "    .dataframe thead th {\n",
              "        text-align: right;\n",
              "    }\n",
              "</style>\n",
              "<table border=\"1\" class=\"dataframe\">\n",
              "  <thead>\n",
              "    <tr style=\"text-align: right;\">\n",
              "      <th></th>\n",
              "      <th>shop_name</th>\n",
              "      <th>shop_id</th>\n",
              "    </tr>\n",
              "  </thead>\n",
              "  <tbody>\n",
              "    <tr>\n",
              "      <th>0</th>\n",
              "      <td>!Якутск Орджоникидзе, 56 фран</td>\n",
              "      <td>0</td>\n",
              "    </tr>\n",
              "    <tr>\n",
              "      <th>1</th>\n",
              "      <td>!Якутск ТЦ \"Центральный\" фран</td>\n",
              "      <td>1</td>\n",
              "    </tr>\n",
              "    <tr>\n",
              "      <th>2</th>\n",
              "      <td>Адыгея ТЦ \"Мега\"</td>\n",
              "      <td>2</td>\n",
              "    </tr>\n",
              "    <tr>\n",
              "      <th>3</th>\n",
              "      <td>Балашиха ТРК \"Октябрь-Киномир\"</td>\n",
              "      <td>3</td>\n",
              "    </tr>\n",
              "    <tr>\n",
              "      <th>4</th>\n",
              "      <td>Волжский ТЦ \"Волга Молл\"</td>\n",
              "      <td>4</td>\n",
              "    </tr>\n",
              "  </tbody>\n",
              "</table>\n",
              "</div>"
            ],
            "text/plain": [
              "                        shop_name  shop_id\n",
              "0   !Якутск Орджоникидзе, 56 фран        0\n",
              "1   !Якутск ТЦ \"Центральный\" фран        1\n",
              "2                Адыгея ТЦ \"Мега\"        2\n",
              "3  Балашиха ТРК \"Октябрь-Киномир\"        3\n",
              "4        Волжский ТЦ \"Волга Молл\"        4"
            ]
          },
          "metadata": {
            "tags": []
          },
          "execution_count": 13
        }
      ]
    },
    {
      "cell_type": "code",
      "metadata": {
        "colab": {
          "base_uri": "https://localhost:8080/",
          "height": 205
        },
        "id": "tpZbNi_staiI",
        "outputId": "7a577a4e-6559-4d7b-d593-2cd9b41d1503"
      },
      "source": [
        "shops['shop_name'] = shops['shop_name'].map(trans_es)\n",
        "shops.head()"
      ],
      "execution_count": 14,
      "outputs": [
        {
          "output_type": "execute_result",
          "data": {
            "text/html": [
              "<div>\n",
              "<style scoped>\n",
              "    .dataframe tbody tr th:only-of-type {\n",
              "        vertical-align: middle;\n",
              "    }\n",
              "\n",
              "    .dataframe tbody tr th {\n",
              "        vertical-align: top;\n",
              "    }\n",
              "\n",
              "    .dataframe thead th {\n",
              "        text-align: right;\n",
              "    }\n",
              "</style>\n",
              "<table border=\"1\" class=\"dataframe\">\n",
              "  <thead>\n",
              "    <tr style=\"text-align: right;\">\n",
              "      <th></th>\n",
              "      <th>shop_name</th>\n",
              "      <th>shop_id</th>\n",
              "    </tr>\n",
              "  </thead>\n",
              "  <tbody>\n",
              "    <tr>\n",
              "      <th>0</th>\n",
              "      <td>! Yakutsk Ordzhonikidze, 56 francos</td>\n",
              "      <td>0</td>\n",
              "    </tr>\n",
              "    <tr>\n",
              "      <th>1</th>\n",
              "      <td>! Yakutsk TC \"Central\" fran</td>\n",
              "      <td>1</td>\n",
              "    </tr>\n",
              "    <tr>\n",
              "      <th>2</th>\n",
              "      <td>Centro comercial Adygea \"Mega\"</td>\n",
              "      <td>2</td>\n",
              "    </tr>\n",
              "    <tr>\n",
              "      <th>3</th>\n",
              "      <td>Balashikha TRK \"Octubre-Kinomir\"</td>\n",
              "      <td>3</td>\n",
              "    </tr>\n",
              "    <tr>\n",
              "      <th>4</th>\n",
              "      <td>Centro comercial Volzhsky \"Volga Mall\"</td>\n",
              "      <td>4</td>\n",
              "    </tr>\n",
              "  </tbody>\n",
              "</table>\n",
              "</div>"
            ],
            "text/plain": [
              "                                shop_name  shop_id\n",
              "0     ! Yakutsk Ordzhonikidze, 56 francos        0\n",
              "1             ! Yakutsk TC \"Central\" fran        1\n",
              "2          Centro comercial Adygea \"Mega\"        2\n",
              "3        Balashikha TRK \"Octubre-Kinomir\"        3\n",
              "4  Centro comercial Volzhsky \"Volga Mall\"        4"
            ]
          },
          "metadata": {
            "tags": []
          },
          "execution_count": 14
        }
      ]
    },
    {
      "cell_type": "code",
      "metadata": {
        "colab": {
          "base_uri": "https://localhost:8080/"
        },
        "id": "J4gcKFkVpC2h",
        "outputId": "4966fcc7-bad5-43b8-a546-f7059355640e"
      },
      "source": [
        "shops.isnull().values.sum()"
      ],
      "execution_count": 15,
      "outputs": [
        {
          "output_type": "execute_result",
          "data": {
            "text/plain": [
              "0"
            ]
          },
          "metadata": {
            "tags": []
          },
          "execution_count": 15
        }
      ]
    },
    {
      "cell_type": "code",
      "metadata": {
        "colab": {
          "base_uri": "https://localhost:8080/"
        },
        "id": "lRjTmqHEpN4J",
        "outputId": "d24e9b80-72ea-4747-f5ca-008e26c62cf2"
      },
      "source": [
        "total_tiendas = len(shops.shop_id.unique())\n",
        "print ('El número total de tiendas es: ',total_tiendas)"
      ],
      "execution_count": 16,
      "outputs": [
        {
          "output_type": "stream",
          "text": [
            "El número total de tiendas es:  60\n"
          ],
          "name": "stdout"
        }
      ]
    },
    {
      "cell_type": "markdown",
      "metadata": {
        "id": "hxdV7w4VpvH3"
      },
      "source": [
        "Como se puede evidenciar el archivo <b>shops.csv</b> no presenta valores nulos o repetidos, ya que este archivo se utilizado solo para brindar información, no se realiza ningun cambio adicional en el mismo y se procede a guardar el archivo."
      ]
    },
    {
      "cell_type": "code",
      "metadata": {
        "id": "CQI9hZjmqS22"
      },
      "source": [
        "shops.to_csv('New_Datasets/shops.csv',index=False)"
      ],
      "execution_count": 17,
      "outputs": []
    },
    {
      "cell_type": "markdown",
      "metadata": {
        "id": "OrnKVoBSqdti"
      },
      "source": [
        "##**4.sample_submission.csv**\n",
        "\n",
        "El archivo presenta el formato correcto en el que se debe enviar la información en la competencia de kaggle al momento de subir los resultados o las predicciones obtenidas, donde <b>ID</b> corresponde al id del producto <i>id_item</i> e <b>item_cnt_month</b> son la cantidad de ventas durante un mes (datos predecidos).\n",
        "\n",
        "> Bloque con sangría\n",
        "\n"
      ]
    },
    {
      "cell_type": "code",
      "metadata": {
        "colab": {
          "base_uri": "https://localhost:8080/",
          "height": 422
        },
        "id": "oqNy1-w0xmvn",
        "outputId": "a0362ab7-7579-413c-f09b-fca1d252be5e"
      },
      "source": [
        "sample_submission = pd.read_csv('MonografiaGithub/Datasets/sample_submission.csv')\n",
        "sample_submission"
      ],
      "execution_count": 18,
      "outputs": [
        {
          "output_type": "execute_result",
          "data": {
            "text/html": [
              "<div>\n",
              "<style scoped>\n",
              "    .dataframe tbody tr th:only-of-type {\n",
              "        vertical-align: middle;\n",
              "    }\n",
              "\n",
              "    .dataframe tbody tr th {\n",
              "        vertical-align: top;\n",
              "    }\n",
              "\n",
              "    .dataframe thead th {\n",
              "        text-align: right;\n",
              "    }\n",
              "</style>\n",
              "<table border=\"1\" class=\"dataframe\">\n",
              "  <thead>\n",
              "    <tr style=\"text-align: right;\">\n",
              "      <th></th>\n",
              "      <th>ID</th>\n",
              "      <th>item_cnt_month</th>\n",
              "    </tr>\n",
              "  </thead>\n",
              "  <tbody>\n",
              "    <tr>\n",
              "      <th>0</th>\n",
              "      <td>0</td>\n",
              "      <td>0.5</td>\n",
              "    </tr>\n",
              "    <tr>\n",
              "      <th>1</th>\n",
              "      <td>1</td>\n",
              "      <td>0.5</td>\n",
              "    </tr>\n",
              "    <tr>\n",
              "      <th>2</th>\n",
              "      <td>2</td>\n",
              "      <td>0.5</td>\n",
              "    </tr>\n",
              "    <tr>\n",
              "      <th>3</th>\n",
              "      <td>3</td>\n",
              "      <td>0.5</td>\n",
              "    </tr>\n",
              "    <tr>\n",
              "      <th>4</th>\n",
              "      <td>4</td>\n",
              "      <td>0.5</td>\n",
              "    </tr>\n",
              "    <tr>\n",
              "      <th>...</th>\n",
              "      <td>...</td>\n",
              "      <td>...</td>\n",
              "    </tr>\n",
              "    <tr>\n",
              "      <th>214195</th>\n",
              "      <td>214195</td>\n",
              "      <td>0.5</td>\n",
              "    </tr>\n",
              "    <tr>\n",
              "      <th>214196</th>\n",
              "      <td>214196</td>\n",
              "      <td>0.5</td>\n",
              "    </tr>\n",
              "    <tr>\n",
              "      <th>214197</th>\n",
              "      <td>214197</td>\n",
              "      <td>0.5</td>\n",
              "    </tr>\n",
              "    <tr>\n",
              "      <th>214198</th>\n",
              "      <td>214198</td>\n",
              "      <td>0.5</td>\n",
              "    </tr>\n",
              "    <tr>\n",
              "      <th>214199</th>\n",
              "      <td>214199</td>\n",
              "      <td>0.5</td>\n",
              "    </tr>\n",
              "  </tbody>\n",
              "</table>\n",
              "<p>214200 rows × 2 columns</p>\n",
              "</div>"
            ],
            "text/plain": [
              "            ID  item_cnt_month\n",
              "0            0             0.5\n",
              "1            1             0.5\n",
              "2            2             0.5\n",
              "3            3             0.5\n",
              "4            4             0.5\n",
              "...        ...             ...\n",
              "214195  214195             0.5\n",
              "214196  214196             0.5\n",
              "214197  214197             0.5\n",
              "214198  214198             0.5\n",
              "214199  214199             0.5\n",
              "\n",
              "[214200 rows x 2 columns]"
            ]
          },
          "metadata": {
            "tags": []
          },
          "execution_count": 18
        }
      ]
    },
    {
      "cell_type": "code",
      "metadata": {
        "colab": {
          "base_uri": "https://localhost:8080/"
        },
        "id": "vQLU7kto-5-Y",
        "outputId": "3ff29c7b-bb17-410d-9a45-d342a4cb81d0"
      },
      "source": [
        "len(sample_submission.ID.unique())"
      ],
      "execution_count": 19,
      "outputs": [
        {
          "output_type": "execute_result",
          "data": {
            "text/plain": [
              "214200"
            ]
          },
          "metadata": {
            "tags": []
          },
          "execution_count": 19
        }
      ]
    },
    {
      "cell_type": "code",
      "metadata": {
        "id": "kE3iVpMWt_Ey"
      },
      "source": [
        "sample_submission.to_csv('New_Datasets/sample_submission.csv',index=False)"
      ],
      "execution_count": 20,
      "outputs": []
    },
    {
      "cell_type": "markdown",
      "metadata": {
        "id": "Py2ZRMEsuO1s"
      },
      "source": [
        "##**5.sales_train.csv**"
      ]
    },
    {
      "cell_type": "code",
      "metadata": {
        "colab": {
          "base_uri": "https://localhost:8080/",
          "height": 422
        },
        "id": "tijFOdHKvO-H",
        "outputId": "11ccc91e-1851-4bc9-d766-fa6438b4176b"
      },
      "source": [
        "sales_train = pd.read_csv('MonografiaGithub/Datasets/sales_train.csv')\n",
        "sales_train"
      ],
      "execution_count": 21,
      "outputs": [
        {
          "output_type": "execute_result",
          "data": {
            "text/html": [
              "<div>\n",
              "<style scoped>\n",
              "    .dataframe tbody tr th:only-of-type {\n",
              "        vertical-align: middle;\n",
              "    }\n",
              "\n",
              "    .dataframe tbody tr th {\n",
              "        vertical-align: top;\n",
              "    }\n",
              "\n",
              "    .dataframe thead th {\n",
              "        text-align: right;\n",
              "    }\n",
              "</style>\n",
              "<table border=\"1\" class=\"dataframe\">\n",
              "  <thead>\n",
              "    <tr style=\"text-align: right;\">\n",
              "      <th></th>\n",
              "      <th>date</th>\n",
              "      <th>date_block_num</th>\n",
              "      <th>shop_id</th>\n",
              "      <th>item_id</th>\n",
              "      <th>item_price</th>\n",
              "      <th>item_cnt_day</th>\n",
              "    </tr>\n",
              "  </thead>\n",
              "  <tbody>\n",
              "    <tr>\n",
              "      <th>0</th>\n",
              "      <td>02.01.2013</td>\n",
              "      <td>0</td>\n",
              "      <td>59</td>\n",
              "      <td>22154</td>\n",
              "      <td>999.00</td>\n",
              "      <td>1.0</td>\n",
              "    </tr>\n",
              "    <tr>\n",
              "      <th>1</th>\n",
              "      <td>03.01.2013</td>\n",
              "      <td>0</td>\n",
              "      <td>25</td>\n",
              "      <td>2552</td>\n",
              "      <td>899.00</td>\n",
              "      <td>1.0</td>\n",
              "    </tr>\n",
              "    <tr>\n",
              "      <th>2</th>\n",
              "      <td>05.01.2013</td>\n",
              "      <td>0</td>\n",
              "      <td>25</td>\n",
              "      <td>2552</td>\n",
              "      <td>899.00</td>\n",
              "      <td>-1.0</td>\n",
              "    </tr>\n",
              "    <tr>\n",
              "      <th>3</th>\n",
              "      <td>06.01.2013</td>\n",
              "      <td>0</td>\n",
              "      <td>25</td>\n",
              "      <td>2554</td>\n",
              "      <td>1709.05</td>\n",
              "      <td>1.0</td>\n",
              "    </tr>\n",
              "    <tr>\n",
              "      <th>4</th>\n",
              "      <td>15.01.2013</td>\n",
              "      <td>0</td>\n",
              "      <td>25</td>\n",
              "      <td>2555</td>\n",
              "      <td>1099.00</td>\n",
              "      <td>1.0</td>\n",
              "    </tr>\n",
              "    <tr>\n",
              "      <th>...</th>\n",
              "      <td>...</td>\n",
              "      <td>...</td>\n",
              "      <td>...</td>\n",
              "      <td>...</td>\n",
              "      <td>...</td>\n",
              "      <td>...</td>\n",
              "    </tr>\n",
              "    <tr>\n",
              "      <th>2935844</th>\n",
              "      <td>10.10.2015</td>\n",
              "      <td>33</td>\n",
              "      <td>25</td>\n",
              "      <td>7409</td>\n",
              "      <td>299.00</td>\n",
              "      <td>1.0</td>\n",
              "    </tr>\n",
              "    <tr>\n",
              "      <th>2935845</th>\n",
              "      <td>09.10.2015</td>\n",
              "      <td>33</td>\n",
              "      <td>25</td>\n",
              "      <td>7460</td>\n",
              "      <td>299.00</td>\n",
              "      <td>1.0</td>\n",
              "    </tr>\n",
              "    <tr>\n",
              "      <th>2935846</th>\n",
              "      <td>14.10.2015</td>\n",
              "      <td>33</td>\n",
              "      <td>25</td>\n",
              "      <td>7459</td>\n",
              "      <td>349.00</td>\n",
              "      <td>1.0</td>\n",
              "    </tr>\n",
              "    <tr>\n",
              "      <th>2935847</th>\n",
              "      <td>22.10.2015</td>\n",
              "      <td>33</td>\n",
              "      <td>25</td>\n",
              "      <td>7440</td>\n",
              "      <td>299.00</td>\n",
              "      <td>1.0</td>\n",
              "    </tr>\n",
              "    <tr>\n",
              "      <th>2935848</th>\n",
              "      <td>03.10.2015</td>\n",
              "      <td>33</td>\n",
              "      <td>25</td>\n",
              "      <td>7460</td>\n",
              "      <td>299.00</td>\n",
              "      <td>1.0</td>\n",
              "    </tr>\n",
              "  </tbody>\n",
              "</table>\n",
              "<p>2935849 rows × 6 columns</p>\n",
              "</div>"
            ],
            "text/plain": [
              "               date  date_block_num  shop_id  item_id  item_price  item_cnt_day\n",
              "0        02.01.2013               0       59    22154      999.00           1.0\n",
              "1        03.01.2013               0       25     2552      899.00           1.0\n",
              "2        05.01.2013               0       25     2552      899.00          -1.0\n",
              "3        06.01.2013               0       25     2554     1709.05           1.0\n",
              "4        15.01.2013               0       25     2555     1099.00           1.0\n",
              "...             ...             ...      ...      ...         ...           ...\n",
              "2935844  10.10.2015              33       25     7409      299.00           1.0\n",
              "2935845  09.10.2015              33       25     7460      299.00           1.0\n",
              "2935846  14.10.2015              33       25     7459      349.00           1.0\n",
              "2935847  22.10.2015              33       25     7440      299.00           1.0\n",
              "2935848  03.10.2015              33       25     7460      299.00           1.0\n",
              "\n",
              "[2935849 rows x 6 columns]"
            ]
          },
          "metadata": {
            "tags": []
          },
          "execution_count": 21
        }
      ]
    },
    {
      "cell_type": "code",
      "metadata": {
        "colab": {
          "base_uri": "https://localhost:8080/"
        },
        "id": "_D-lTlrlEWVg",
        "outputId": "e9c45eca-3ab9-4b35-c0e0-3a4d9de79d3c"
      },
      "source": [
        "sales_train.info()"
      ],
      "execution_count": 29,
      "outputs": [
        {
          "output_type": "stream",
          "text": [
            "<class 'pandas.core.frame.DataFrame'>\n",
            "RangeIndex: 2935849 entries, 0 to 2935848\n",
            "Data columns (total 6 columns):\n",
            " #   Column          Dtype  \n",
            "---  ------          -----  \n",
            " 0   date            object \n",
            " 1   date_block_num  int64  \n",
            " 2   shop_id         int64  \n",
            " 3   item_id         int64  \n",
            " 4   item_price      float64\n",
            " 5   item_cnt_day    float64\n",
            "dtypes: float64(2), int64(3), object(1)\n",
            "memory usage: 134.4+ MB\n"
          ],
          "name": "stdout"
        }
      ]
    },
    {
      "cell_type": "code",
      "metadata": {
        "id": "5oOJ78B_8biB"
      },
      "source": [
        "sales_train['date'] = pd.to_datetime(sales_train['date'],errors='coerce')"
      ],
      "execution_count": 31,
      "outputs": []
    },
    {
      "cell_type": "code",
      "metadata": {
        "colab": {
          "base_uri": "https://localhost:8080/"
        },
        "id": "TJ3SNod588zg",
        "outputId": "90215bd0-941b-46bf-c8ee-6ef1d350de1c"
      },
      "source": [
        "sales_train.info()"
      ],
      "execution_count": 32,
      "outputs": [
        {
          "output_type": "stream",
          "text": [
            "<class 'pandas.core.frame.DataFrame'>\n",
            "RangeIndex: 2935849 entries, 0 to 2935848\n",
            "Data columns (total 6 columns):\n",
            " #   Column          Dtype         \n",
            "---  ------          -----         \n",
            " 0   date            datetime64[ns]\n",
            " 1   date_block_num  int64         \n",
            " 2   shop_id         int64         \n",
            " 3   item_id         int64         \n",
            " 4   item_price      float64       \n",
            " 5   item_cnt_day    float64       \n",
            "dtypes: datetime64[ns](1), float64(2), int64(3)\n",
            "memory usage: 134.4 MB\n"
          ],
          "name": "stdout"
        }
      ]
    },
    {
      "cell_type": "code",
      "metadata": {
        "colab": {
          "base_uri": "https://localhost:8080/",
          "height": 362
        },
        "id": "o62uF0kv9EBL",
        "outputId": "d71b5e4d-738e-40c6-f8f2-8435ff8e2af4"
      },
      "source": [
        "sales_train.head(10)"
      ],
      "execution_count": 33,
      "outputs": [
        {
          "output_type": "execute_result",
          "data": {
            "text/html": [
              "<div>\n",
              "<style scoped>\n",
              "    .dataframe tbody tr th:only-of-type {\n",
              "        vertical-align: middle;\n",
              "    }\n",
              "\n",
              "    .dataframe tbody tr th {\n",
              "        vertical-align: top;\n",
              "    }\n",
              "\n",
              "    .dataframe thead th {\n",
              "        text-align: right;\n",
              "    }\n",
              "</style>\n",
              "<table border=\"1\" class=\"dataframe\">\n",
              "  <thead>\n",
              "    <tr style=\"text-align: right;\">\n",
              "      <th></th>\n",
              "      <th>date</th>\n",
              "      <th>date_block_num</th>\n",
              "      <th>shop_id</th>\n",
              "      <th>item_id</th>\n",
              "      <th>item_price</th>\n",
              "      <th>item_cnt_day</th>\n",
              "    </tr>\n",
              "  </thead>\n",
              "  <tbody>\n",
              "    <tr>\n",
              "      <th>0</th>\n",
              "      <td>2013-02-01</td>\n",
              "      <td>0</td>\n",
              "      <td>59</td>\n",
              "      <td>22154</td>\n",
              "      <td>999.00</td>\n",
              "      <td>1.0</td>\n",
              "    </tr>\n",
              "    <tr>\n",
              "      <th>1</th>\n",
              "      <td>2013-03-01</td>\n",
              "      <td>0</td>\n",
              "      <td>25</td>\n",
              "      <td>2552</td>\n",
              "      <td>899.00</td>\n",
              "      <td>1.0</td>\n",
              "    </tr>\n",
              "    <tr>\n",
              "      <th>2</th>\n",
              "      <td>2013-05-01</td>\n",
              "      <td>0</td>\n",
              "      <td>25</td>\n",
              "      <td>2552</td>\n",
              "      <td>899.00</td>\n",
              "      <td>-1.0</td>\n",
              "    </tr>\n",
              "    <tr>\n",
              "      <th>3</th>\n",
              "      <td>2013-06-01</td>\n",
              "      <td>0</td>\n",
              "      <td>25</td>\n",
              "      <td>2554</td>\n",
              "      <td>1709.05</td>\n",
              "      <td>1.0</td>\n",
              "    </tr>\n",
              "    <tr>\n",
              "      <th>4</th>\n",
              "      <td>2013-01-15</td>\n",
              "      <td>0</td>\n",
              "      <td>25</td>\n",
              "      <td>2555</td>\n",
              "      <td>1099.00</td>\n",
              "      <td>1.0</td>\n",
              "    </tr>\n",
              "    <tr>\n",
              "      <th>5</th>\n",
              "      <td>2013-10-01</td>\n",
              "      <td>0</td>\n",
              "      <td>25</td>\n",
              "      <td>2564</td>\n",
              "      <td>349.00</td>\n",
              "      <td>1.0</td>\n",
              "    </tr>\n",
              "    <tr>\n",
              "      <th>6</th>\n",
              "      <td>2013-02-01</td>\n",
              "      <td>0</td>\n",
              "      <td>25</td>\n",
              "      <td>2565</td>\n",
              "      <td>549.00</td>\n",
              "      <td>1.0</td>\n",
              "    </tr>\n",
              "    <tr>\n",
              "      <th>7</th>\n",
              "      <td>2013-04-01</td>\n",
              "      <td>0</td>\n",
              "      <td>25</td>\n",
              "      <td>2572</td>\n",
              "      <td>239.00</td>\n",
              "      <td>1.0</td>\n",
              "    </tr>\n",
              "    <tr>\n",
              "      <th>8</th>\n",
              "      <td>2013-11-01</td>\n",
              "      <td>0</td>\n",
              "      <td>25</td>\n",
              "      <td>2572</td>\n",
              "      <td>299.00</td>\n",
              "      <td>1.0</td>\n",
              "    </tr>\n",
              "    <tr>\n",
              "      <th>9</th>\n",
              "      <td>2013-03-01</td>\n",
              "      <td>0</td>\n",
              "      <td>25</td>\n",
              "      <td>2573</td>\n",
              "      <td>299.00</td>\n",
              "      <td>3.0</td>\n",
              "    </tr>\n",
              "  </tbody>\n",
              "</table>\n",
              "</div>"
            ],
            "text/plain": [
              "        date  date_block_num  shop_id  item_id  item_price  item_cnt_day\n",
              "0 2013-02-01               0       59    22154      999.00           1.0\n",
              "1 2013-03-01               0       25     2552      899.00           1.0\n",
              "2 2013-05-01               0       25     2552      899.00          -1.0\n",
              "3 2013-06-01               0       25     2554     1709.05           1.0\n",
              "4 2013-01-15               0       25     2555     1099.00           1.0\n",
              "5 2013-10-01               0       25     2564      349.00           1.0\n",
              "6 2013-02-01               0       25     2565      549.00           1.0\n",
              "7 2013-04-01               0       25     2572      239.00           1.0\n",
              "8 2013-11-01               0       25     2572      299.00           1.0\n",
              "9 2013-03-01               0       25     2573      299.00           3.0"
            ]
          },
          "metadata": {
            "tags": []
          },
          "execution_count": 33
        }
      ]
    },
    {
      "cell_type": "code",
      "metadata": {
        "colab": {
          "base_uri": "https://localhost:8080/"
        },
        "id": "v8emnLQV9H34",
        "outputId": "c5830379-80f3-4935-f451-40fed729e6f7"
      },
      "source": [
        "sales_train.isnull().values.sum()"
      ],
      "execution_count": 35,
      "outputs": [
        {
          "output_type": "execute_result",
          "data": {
            "text/plain": [
              "0"
            ]
          },
          "metadata": {
            "tags": []
          },
          "execution_count": 35
        }
      ]
    },
    {
      "cell_type": "code",
      "metadata": {
        "id": "nbOwLcwQ9H0a"
      },
      "source": [
        "sales_train.to_csv('New_Datasets/sales_train.csv',index=False)"
      ],
      "execution_count": 36,
      "outputs": []
    },
    {
      "cell_type": "markdown",
      "metadata": {
        "id": "kdB7RBgDCBUs"
      },
      "source": [
        "##**6.test.csv**"
      ]
    },
    {
      "cell_type": "code",
      "metadata": {
        "colab": {
          "base_uri": "https://localhost:8080/",
          "height": 362
        },
        "id": "ipxwAszTyA-v",
        "outputId": "73ae7bb2-bada-4f72-b85c-402a9afd4773"
      },
      "source": [
        "test = pd.read_csv('MonografiaGithub/Datasets/test.csv')\n",
        "test.head(10)"
      ],
      "execution_count": 37,
      "outputs": [
        {
          "output_type": "execute_result",
          "data": {
            "text/html": [
              "<div>\n",
              "<style scoped>\n",
              "    .dataframe tbody tr th:only-of-type {\n",
              "        vertical-align: middle;\n",
              "    }\n",
              "\n",
              "    .dataframe tbody tr th {\n",
              "        vertical-align: top;\n",
              "    }\n",
              "\n",
              "    .dataframe thead th {\n",
              "        text-align: right;\n",
              "    }\n",
              "</style>\n",
              "<table border=\"1\" class=\"dataframe\">\n",
              "  <thead>\n",
              "    <tr style=\"text-align: right;\">\n",
              "      <th></th>\n",
              "      <th>ID</th>\n",
              "      <th>shop_id</th>\n",
              "      <th>item_id</th>\n",
              "    </tr>\n",
              "  </thead>\n",
              "  <tbody>\n",
              "    <tr>\n",
              "      <th>0</th>\n",
              "      <td>0</td>\n",
              "      <td>5</td>\n",
              "      <td>5037</td>\n",
              "    </tr>\n",
              "    <tr>\n",
              "      <th>1</th>\n",
              "      <td>1</td>\n",
              "      <td>5</td>\n",
              "      <td>5320</td>\n",
              "    </tr>\n",
              "    <tr>\n",
              "      <th>2</th>\n",
              "      <td>2</td>\n",
              "      <td>5</td>\n",
              "      <td>5233</td>\n",
              "    </tr>\n",
              "    <tr>\n",
              "      <th>3</th>\n",
              "      <td>3</td>\n",
              "      <td>5</td>\n",
              "      <td>5232</td>\n",
              "    </tr>\n",
              "    <tr>\n",
              "      <th>4</th>\n",
              "      <td>4</td>\n",
              "      <td>5</td>\n",
              "      <td>5268</td>\n",
              "    </tr>\n",
              "    <tr>\n",
              "      <th>5</th>\n",
              "      <td>5</td>\n",
              "      <td>5</td>\n",
              "      <td>5039</td>\n",
              "    </tr>\n",
              "    <tr>\n",
              "      <th>6</th>\n",
              "      <td>6</td>\n",
              "      <td>5</td>\n",
              "      <td>5041</td>\n",
              "    </tr>\n",
              "    <tr>\n",
              "      <th>7</th>\n",
              "      <td>7</td>\n",
              "      <td>5</td>\n",
              "      <td>5046</td>\n",
              "    </tr>\n",
              "    <tr>\n",
              "      <th>8</th>\n",
              "      <td>8</td>\n",
              "      <td>5</td>\n",
              "      <td>5319</td>\n",
              "    </tr>\n",
              "    <tr>\n",
              "      <th>9</th>\n",
              "      <td>9</td>\n",
              "      <td>5</td>\n",
              "      <td>5003</td>\n",
              "    </tr>\n",
              "  </tbody>\n",
              "</table>\n",
              "</div>"
            ],
            "text/plain": [
              "   ID  shop_id  item_id\n",
              "0   0        5     5037\n",
              "1   1        5     5320\n",
              "2   2        5     5233\n",
              "3   3        5     5232\n",
              "4   4        5     5268\n",
              "5   5        5     5039\n",
              "6   6        5     5041\n",
              "7   7        5     5046\n",
              "8   8        5     5319\n",
              "9   9        5     5003"
            ]
          },
          "metadata": {
            "tags": []
          },
          "execution_count": 37
        }
      ]
    },
    {
      "cell_type": "code",
      "metadata": {
        "colab": {
          "base_uri": "https://localhost:8080/"
        },
        "id": "di1TZEDwCTgE",
        "outputId": "a58f500f-d8d0-4b9f-e488-f470b7c53526"
      },
      "source": [
        "test.isnull().values.sum()"
      ],
      "execution_count": 38,
      "outputs": [
        {
          "output_type": "execute_result",
          "data": {
            "text/plain": [
              "0"
            ]
          },
          "metadata": {
            "tags": []
          },
          "execution_count": 38
        }
      ]
    },
    {
      "cell_type": "code",
      "metadata": {
        "id": "FlUNgov-Cg6m"
      },
      "source": [
        "test.to_csv('New_Datasets/test.csv',index=False)"
      ],
      "execution_count": 39,
      "outputs": []
    }
  ]
}